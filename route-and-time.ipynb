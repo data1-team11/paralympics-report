{
 "cells": [
  {
   "cell_type": "raw",
   "metadata": {},
   "source": [
    "---\n",
    "title: \"Proposed route & time\"\n",
    "format: html\n",
    "bibliography: references.bib\n",
    "---"
   ]
  },
  {
   "cell_type": "markdown",
   "metadata": {},
   "source": [
    "We need to find a 5km route through the canals of Amsterdam and an appropriate time for the event. "
   ]
  },
  {
   "cell_type": "markdown",
   "metadata": {},
   "source": [
    "## Finding a route\n",
    "\n",
    "We consider the following factors:\n",
    "\n",
    "* Water quality: Less polluted waters are safer for swimmers.\n",
    "* Canal traffic: We want to minimise impact on canal traffic. Canals with less traffic would also have better quality water."
   ]
  },
  {
   "cell_type": "markdown",
   "metadata": {},
   "source": [
    "### (Swim) water quality\n",
    "\n",
    "We have limited data available for water quality.\n",
    "However, we do know that Amsterdam uses a combined sewage system, so one of the major sources of water pollution is sewer overflows caused by heavy rainfall [@leemans_wu_2017]. \n",
    "Thus, a possible precaution we can take is to avoid sewer overflow points"
   ]
  },
  {
   "cell_type": "markdown",
   "metadata": {},
   "source": [
    "The Waternet sewerage network data is available on [Overheid.nl](https://data.overheid.nl/dataset/xnhveaeyheww2w).\n",
    "Unfortunately, the download link for the WFS data returned a 404 error.\n",
    "Instead, we used the provided API to retrieve the sewage nodes, then saved it as a [GeoJSON file](../../data/sewage_nodes.geojson). \n",
    "(Coordinate Reference System used is EPSG:28992.)\n",
    "We then filtered the data to get the sewage overflow nodes."
   ]
  },
  {
   "cell_type": "code",
   "execution_count": 26,
   "metadata": {},
   "outputs": [
    {
     "name": "stdout",
     "output_type": "stream",
     "text": [
      "Sewer nodes data has already been parsed to GeoJSON in 'data/sewer_nodes.geojson'\n",
      "Sewage overflow nodes data saved to file 'data/sewage_overflow_nodes.geojson'\n"
     ]
    }
   ],
   "source": [
    "from urllib.request import urlopen\n",
    "import json\n",
    "import time\n",
    "import os.path\n",
    "import geopandas as gpd\n",
    "from pyproj import Transformer\n",
    "\n",
    "FILENAME_SEWER_NODES = \"data/sewer_nodes.geojson\"\n",
    "FILENAME_SEWAGE_OVERFLOW_NODES = \"data/sewage_overflow_nodes.geojson\"\n",
    "URL_SEWER_NODES = \"https://api.data.amsterdam.nl/v1/leidingeninfrastructuur/waternet_rioolknopen/?page_size=1000\"\n",
    "SEWAGE_OVERFLOW_TYPES = [\n",
    "    \"Uitlaat gemengde overstort\", # Mixed overflow\n",
    "    \"Uitlaat vuilwater nooduitlaat\", # Black water emergency outlet\n",
    "    \"(Externe) overstortput\", # (External) overflow\n",
    "    \"Overstort met signalering\", # Overflow with signaling\n",
    "    \"Interne overstortput\", # Internal overflow\n",
    "    \"Nooduitlaat met signalering\" # Emergency overflow with signaling\n",
    "]\n",
    "\n",
    "def get_sewer_nodes(url, geojson_filename, is_test_run=False):\n",
    "    \"\"\"Return sewer nodes as geodataframe. If test run, retrieve max 3 pages of results from API.\"\"\"\n",
    "    if os.path.exists(geojson_filename):\n",
    "        print(\"Sewer nodes data has already been parsed to GeoJSON in '{}'\".format(geojson_filename))\n",
    "        gdf = gpd.read_file(geojson_filename)\n",
    "    else:\n",
    "        print(\"Sewer nodes GeoJSON file does not exist. Requesting data from API {}\".format(url))\n",
    "        geojson_data = retrieve_sewer_nodes_data_from_api(url, is_test_run)\n",
    "        \n",
    "        # Save data for future use\n",
    "        with open(geojson_filename, \"a+\", encoding='utf-8') as outfile:\n",
    "            json.dump(geojson_data, outfile)\n",
    "        print(\"Sewer nodes data saved to file '{}'\".format(geojson_filename))\n",
    "\n",
    "        gdf = gpd.GeoDataFrame.from_features(geojson_data['features'])\n",
    "    return gdf\n",
    "\n",
    "def request_sewer_nodes_data(url, is_test_run):\n",
    "    \"\"\"Retrieve all sewer node results from API. For test runs, stop after first 3 pages of results.\"\"\"\n",
    "    api_response = json.load(urlopen(url))\n",
    "\n",
    "    sewer_node_entries = []\n",
    "    count  = 0\n",
    "\n",
    "    while api_response is not None:\n",
    "        time.sleep(0.5) # avoid spamming the server?\n",
    "\n",
    "        print(\"Retrieving page\", count)\n",
    "        data = api_response[\"_embedded\"][\"waternet_rioolknopen\"]\n",
    "        sewer_node_entries += data\n",
    "\n",
    "        if \"next\" in api_response[\"_links\"]: # has next page of results\n",
    "            api_response = json.load(urlopen(api_response[\"_links\"][\"next\"][\"href\"]))\n",
    "        else: # is last page of results\n",
    "            api_response = None\n",
    "\n",
    "        count += 1\n",
    "\n",
    "        if is_test_run and count >= 3:\n",
    "            break\n",
    "    \n",
    "    return sewer_node_entries\n",
    "\n",
    "def parse_sewer_node_entries(sewer_node_entries):\n",
    "    \"\"\"Parse sewer node results to GeoJSON\"\"\"\n",
    "    transformer = Transformer.from_crs(\"EPSG:7415\", \"EPSG:4326\")\n",
    "\n",
    "    geojson = {\n",
    "        \"type\": \"FeatureCollection\",\n",
    "        \"features\": []\n",
    "    }\n",
    "\n",
    "    for entry in sewer_node_entries:\n",
    "        # print(entry)\n",
    "        x, y, z = entry[\"geometrie\"][\"coordinates\"]\n",
    "        lat, lon = transformer.transform(x, y)\n",
    "        feature = {\n",
    "            \"type\": \"Feature\",\n",
    "            \"geometry\": {\n",
    "                \"type\": \"Point\",\n",
    "                \"coordinates\": [lon, lat]\n",
    "            },\n",
    "            \"properties\": {\n",
    "                \"id\": entry[\"id\"],\n",
    "                \"typeKnoop\": entry[\"typeKnoop\"]\n",
    "            }\n",
    "        }\n",
    "        geojson[\"features\"].append(feature)\n",
    "    \n",
    "    return geojson\n",
    "\n",
    "\n",
    "def retrieve_sewer_nodes_data_from_api(url, is_test_run=False):\n",
    "    \"\"\"Return sewer nodes data as GeoJSON. In test run, retrieve max 3 pages of results from API.\"\"\"\n",
    "    data_entries = request_sewer_nodes_data(url, is_test_run)\n",
    "    geojson_data = parse_sewer_node_entries(data_entries)\n",
    "    return geojson_data\n",
    "\n",
    "\n",
    "def get_sewage_overflow_nodes(url, sewer_nodes_filename, sewage_overflow_nodes_filename, is_test_run):\n",
    "    if os.path.exists(sewage_overflow_nodes_filename):\n",
    "        print(\"Sewage overflow nodes data already exists in file '{}'\".format(sewage_overflow_nodes_filename))\n",
    "        gdf_overflows = gpd.read_file(sewage_overflow_nodes_filename)\n",
    "    else:\n",
    "        gdf_sewer_nodes = get_sewer_nodes(url, sewer_nodes_filename, is_test_run)\n",
    "        gdf_overflows = gdf_sewer_nodes[gdf_sewer_nodes[\"typeKnoop\"].isin(SEWAGE_OVERFLOW_TYPES)]\n",
    "        gdf_overflows.to_file(sewage_overflow_nodes_filename)\n",
    "        print(\"Sewage overflow nodes data saved to file '{}'\".format(sewage_overflow_nodes_filename))\n",
    "    return gdf_overflows\n",
    "\n",
    "gdf_overflows = get_sewage_overflow_nodes(\n",
    "    URL_SEWER_NODES, FILENAME_SEWER_NODES, FILENAME_SEWAGE_OVERFLOW_NODES, \n",
    "    is_test_run=True\n",
    ")\n",
    "\n",
    "\n"
   ]
  },
  {
   "cell_type": "markdown",
   "metadata": {},
   "source": []
  },
  {
   "cell_type": "markdown",
   "metadata": {},
   "source": [
    "### Canal traffic"
   ]
  },
  {
   "cell_type": "markdown",
   "metadata": {},
   "source": [
    "Our route should avoid areas of high canal traffic, to minimise impact on boats.\n",
    "This would also result in a route with cleaner water."
   ]
  },
  {
   "cell_type": "markdown",
   "metadata": {},
   "source": [
    "Waternet commissioned TNO to produce a model to predict traffic densities in the canal. [@snelder_op_2013] The prediction results from the model are as follows:\n",
    "\n",
    "![image](images/Ams%20Canal%20Speeds-Layout1-06.jpg)"
   ]
  },
  {
   "cell_type": "markdown",
   "metadata": {},
   "source": []
  },
  {
   "cell_type": "markdown",
   "metadata": {},
   "source": [
    "### Routes used by previous open water swim events"
   ]
  },
  {
   "cell_type": "markdown",
   "metadata": {},
   "source": [
    "The Amsterdam City Swim is held every summer in the canals of Amsterdam.\n",
    "We have the routes for 2019 and 2023, both of which are the same, other than the direction.\n",
    "\n",
    "![Amsterdam City Swim 2019 route](images/Ams%20Canal%20Speeds-Layout1-09.jpg)\n",
    "\n",
    "![Amsterdam City Swim 2023 route](images/Ams%20Canal%20Speeds-Layout1-11.jpg)\n",
    "\n",
    "![Amsterdam City Swim 2019 & 2023 routes](images/Ams%20Canal%20Speeds-Layout1-12.jpg)\n"
   ]
  },
  {
   "cell_type": "markdown",
   "metadata": {},
   "source": [
    "### Identifying potential routes\n",
    "\n",
    "Based on the City Swims, Amsterdam Oost seems to be a suitable area for open water swimming events.\n",
    "Visual comparison also shows that Amsterdam Oost has relatively fewer sewage overflow points and less canal traffic.\n",
    "\n",
    "![Amsterdam Oost](images/Ams%20Canal%20Speeds-Layout1-13.jpg)\n",
    "\n"
   ]
  },
  {
   "cell_type": "markdown",
   "metadata": {},
   "source": [
    "\n",
    "\n",
    "Thus, we have identified 3 potential 5km routes in this area, indicated in the images below.\n",
    "Our recommendation is the third route, as it traverses the fewest number of sewage overflow points."
   ]
  },
  {
   "cell_type": "markdown",
   "metadata": {},
   "source": [
    "![Route 1](images/Ams%20Canal%20Speeds-Layout1-14.jpg)\n",
    "\n",
    "![Route 2](images/Ams%20Canal%20Speeds-Layout1-15.jpg)\n",
    "\n",
    "![Route 3](images/Ams%20Canal%20Speeds-Layout1-16.jpg)\n"
   ]
  },
  {
   "cell_type": "markdown",
   "metadata": {},
   "source": [
    "## Determining the optimal time with least canal traffic"
   ]
  },
  {
   "cell_type": "markdown",
   "metadata": {},
   "source": [
    "The canals used for the open water swim will need to be closed off for the event, but we want to minimise the impact on the canal boat routes.\n",
    "Thus, for the continuity of boat traffic, we look towards hosting the event outside of ‘rush hours’ on the canals. \n",
    "\n",
    "As can be seen in the figure below [@snelder_op_2013], the busiest hours on the water usually start around 15:00.\n",
    "For that reason the swimming event willshould be finished before 15:00.\n",
    "\n",
    "![image](images/canal-traffic-by-time-of-day.png)\n"
   ]
  },
  {
   "cell_type": "markdown",
   "metadata": {},
   "source": [
    "Next, we need to determine the start time of the race. We know that\n",
    "\n",
    "1. People swim at speeds of about 8 km/h. [@thornton_speed_2019]\n",
    "1. Required length of the swim route is 5km.\n",
    "1. For safety reasons, each wave of swimmers should have a maximum of 120 swimmers in the group. [@british_triathlon_open_nodate]\n",
    "1. We plan for around 3000 swimmers for the swim meet, similar to the Amsterdam City Swim. [@amsterdam_city_swim_swim_nodate]"
   ]
  },
  {
   "cell_type": "code",
   "execution_count": 2,
   "metadata": {},
   "outputs": [],
   "source": [
    "# Insert code for computations\n",
    "\n",
    "# Original text:\n",
    "# As people swim about 8 km/h, each round of 5 km would take approximately 40 minutes. \n",
    "# With maximum 120 swimmers per group it would take 25 waves to accommodate all 3000 swimmers. \n",
    "\n"
   ]
  },
  {
   "cell_type": "markdown",
   "metadata": {},
   "source": [
    "Thus, the first wave of the race starts at 7:00 am with a next wave going every 20 minutes, this way the last wave will be out of the water by 15:00."
   ]
  },
  {
   "cell_type": "markdown",
   "metadata": {},
   "source": [
    "## Conclusion\n",
    "\n",
    "The swim meet is proposed to be conducted from 07:00 to 15:00 pm, with the following route:\n",
    "\n",
    "![Route 3](images/Ams%20Canal%20Speeds-Layout1-16.jpg)\n"
   ]
  },
  {
   "cell_type": "markdown",
   "metadata": {},
   "source": []
  }
 ],
 "metadata": {
  "kernelspec": {
   "display_name": "Python 3",
   "language": "python",
   "name": "python3"
  },
  "language_info": {
   "codemirror_mode": {
    "name": "ipython",
    "version": 3
   },
   "file_extension": ".py",
   "mimetype": "text/x-python",
   "name": "python",
   "nbconvert_exporter": "python",
   "pygments_lexer": "ipython3",
   "version": "3.11.5"
  }
 },
 "nbformat": 4,
 "nbformat_minor": 2
}
