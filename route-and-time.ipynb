{
 "cells": [
  {
   "cell_type": "raw",
   "metadata": {},
   "source": [
    "---\n",
    "title: \"Proposed route & time\"\n",
    "format: html\n",
    "bibliography: references.bib\n",
    "---"
   ]
  },
  {
   "cell_type": "markdown",
   "metadata": {},
   "source": [
    "We need to find a 5km route through the canals of Amsterdam and an appropriate time for the event. "
   ]
  },
  {
   "cell_type": "markdown",
   "metadata": {},
   "source": [
    "## Finding a route\n",
    "\n",
    "We consider the following factors:\n",
    "\n",
    "* Water quality: Less polluted waters are safer for swimmers.\n",
    "* Canal traffic: We want to minimise impact on canal traffic. Canals with less traffic would also have better quality water."
   ]
  },
  {
   "cell_type": "markdown",
   "metadata": {},
   "source": [
    "### (Swim) water quality\n",
    "\n",
    "We have limited data available for water quality.\n",
    "However, we do know that Amsterdam uses a combined sewage system, so one of the major sources of water pollution is sewer overflows caused by heavy rainfall [@leemans_wu_2017]. \n",
    "Thus, a possible precaution we can take is to avoid sewer overflow points"
   ]
  },
  {
   "cell_type": "markdown",
   "metadata": {},
   "source": [
    "The Waternet sewerage network data is available on [Overheid.nl](https://data.overheid.nl/dataset/xnhveaeyheww2w).\n",
    "Unfortunately, the download link for the WFS data returned a 404 error.\n",
    "Instead, we used the provided API to retrieve the sewage nodes, then saved it as a [GeoJSON file](../../data/sewage_nodes.geojson). \n",
    "(Coordinate Reference System used is EPSG:28992.)\n",
    "We then filtered the data to get the sewage overflow nodes."
   ]
  },
  {
   "cell_type": "code",
   "execution_count": 1,
   "metadata": {},
   "outputs": [],
   "source": [
    "from urllib.request import urlopen\n",
    "import json\n",
    "import time\n",
    "import os.path\n",
    "\n",
    "# geojson_filename = \"data/sewage_nodes.geojson\"\n",
    "# url = \"https://api.data.amsterdam.nl/v1/leidingeninfrastructuur/waternet_rioolknopen/?page_size=1000\"\n",
    "\n",
    "# if os.path.exists(geojson_filename):\n",
    "#     print(\"Data has already been parsed to geojson. Please view '{}'\".format(geojson_filename))\n",
    "#     exit()\n",
    "\n",
    "# api_response = json.load(urlopen(url))\n",
    "\n",
    "# data_entries = []\n",
    "# max_count = 3\n",
    "# count  = 0\n",
    "\n",
    "# while api_response is not None: # and count < max_count:\n",
    "#   time.sleep(0.5)\n",
    "#   data = api_response[\"_embedded\"][\"waternet_rioolknopen\"]\n",
    "#   data_entries += data\n",
    "\n",
    "#   if \"next\" in api_response[\"_links\"]: # has next page of results\n",
    "#     api_response = json.load(urlopen(api_response[\"_links\"][\"next\"][\"href\"]))\n",
    "#   else: # is last page of results\n",
    "#     api_response = None\n",
    "\n",
    "#   count += 1\n",
    "\n",
    "\n",
    "# # print(data)\n",
    "\n",
    "# geojson = {\n",
    "#   \"type\": \"FeatureCollection\",\n",
    "#   \"features\": []\n",
    "# }\n",
    "\n",
    "# for entry in data_entries:\n",
    "#   # print(entry)\n",
    "#   feature = {\n",
    "#     \"type\": \"Feature\",\n",
    "#     \"geometry\": {\n",
    "#       \"type\": \"Point\",\n",
    "#       \"coordinates\": entry[\"geometrie\"][\"coordinates\"]\n",
    "#     },\n",
    "#     \"properties\": {\n",
    "#       \"id\": entry[\"id\"],\n",
    "#       \"typeKnoop\": entry[\"typeKnoop\"]\n",
    "#     }\n",
    "#   }\n",
    "\n",
    "#   geojson[\"features\"].append(feature)\n",
    "\n",
    "# with open(geojson_filename, encoding='utf-8') as outfile:\n",
    "#     json.dump(geojson, outfile)\n"
   ]
  },
  {
   "cell_type": "markdown",
   "metadata": {},
   "source": []
  },
  {
   "cell_type": "markdown",
   "metadata": {},
   "source": [
    "### Canal traffic"
   ]
  },
  {
   "cell_type": "markdown",
   "metadata": {},
   "source": [
    "Our route should avoid areas of high canal traffic, to minimise impact on boats.\n",
    "This would also result in a route with cleaner water."
   ]
  },
  {
   "cell_type": "markdown",
   "metadata": {},
   "source": [
    "Waternet commissioned TNO to produce a model to predict traffic densities in the canal. [@snelder_op_2013] The prediction results from the model are as follows:\n",
    "\n",
    "![image](images/Ams%20Canal%20Speeds-Layout1-06.jpg)"
   ]
  },
  {
   "cell_type": "markdown",
   "metadata": {},
   "source": []
  },
  {
   "cell_type": "markdown",
   "metadata": {},
   "source": [
    "### Routes used by previous open water swim events"
   ]
  },
  {
   "cell_type": "markdown",
   "metadata": {},
   "source": [
    "The Amsterdam City Swim is held every summer in the canals of Amsterdam.\n",
    "We have the routes for 2019 and 2023, both of which are the same, other than the direction.\n",
    "\n",
    "![Amsterdam City Swim 2019 route](images/Ams%20Canal%20Speeds-Layout1-09.jpg)\n",
    "\n",
    "![Amsterdam City Swim 2023 route](images/Ams%20Canal%20Speeds-Layout1-11.jpg)\n",
    "\n",
    "![Amsterdam City Swim 2019 & 2023 routes](images/Ams%20Canal%20Speeds-Layout1-12.jpg)\n"
   ]
  },
  {
   "cell_type": "markdown",
   "metadata": {},
   "source": [
    "### Identifying potential routes\n",
    "\n",
    "Based on the City Swims, Amsterdam Oost seems to be a suitable area for open water swimming events.\n",
    "Visual comparison also shows that Amsterdam Oost has relatively fewer sewage overflow points and less canal traffic.\n",
    "\n",
    "![Amsterdam Oost](images/Ams%20Canal%20Speeds-Layout1-13.jpg)\n",
    "\n"
   ]
  },
  {
   "cell_type": "markdown",
   "metadata": {},
   "source": [
    "\n",
    "\n",
    "Thus, we have identified 3 potential 5km routes in this area, indicated in the images below.\n",
    "Our recommendation is the third route, as it traverses the fewest number of sewage overflow points."
   ]
  },
  {
   "cell_type": "markdown",
   "metadata": {},
   "source": [
    "![Route 1](images/Ams%20Canal%20Speeds-Layout1-14.jpg)\n",
    "\n",
    "![Route 2](images/Ams%20Canal%20Speeds-Layout1-15.jpg)\n",
    "\n",
    "![Route 3](images/Ams%20Canal%20Speeds-Layout1-16.jpg)\n"
   ]
  },
  {
   "cell_type": "markdown",
   "metadata": {},
   "source": [
    "## Determining the optimal time with least canal traffic"
   ]
  },
  {
   "cell_type": "markdown",
   "metadata": {},
   "source": [
    "The canals used for the open water swim will need to be closed off for the event, but we want to minimise the impact on the canal boat routes.\n",
    "Thus, for the continuity of boat traffic, we look towards hosting the event outside of ‘rush hours’ on the canals. \n",
    "\n",
    "As can be seen in the figure below [@snelder_op_2013], the busiest hours on the water usually start around 15:00.\n",
    "For that reason the swimming event willshould be finished before 15:00.\n",
    "\n",
    "![image](images/canal-traffic-by-time-of-day.png)\n"
   ]
  },
  {
   "cell_type": "markdown",
   "metadata": {},
   "source": [
    "Next, we need to determine the start time of the race. We know that\n",
    "\n",
    "1. People swim at speeds of about 8 km/h. [@thornton_speed_2019]\n",
    "1. Required length of the swim route is 5km.\n",
    "1. For safety reasons, each wave of swimmers should have a maximum of 120 swimmers in the group. [@british_triathlon_open_nodate]\n",
    "1. We plan for around 3000 swimmers for the swim meet, similar to the Amsterdam City Swim. [@amsterdam_city_swim_swim_nodate]"
   ]
  },
  {
   "cell_type": "code",
   "execution_count": 2,
   "metadata": {},
   "outputs": [],
   "source": [
    "# Insert code for computations\n",
    "\n",
    "# Original text:\n",
    "# As people swim about 8 km/h, each round of 5 km would take approximately 40 minutes. \n",
    "# With maximum 120 swimmers per group it would take 25 waves to accommodate all 3000 swimmers. \n",
    "\n"
   ]
  },
  {
   "cell_type": "markdown",
   "metadata": {},
   "source": [
    "Thus, the first wave of the race starts at 7:00 am with a next wave going every 20 minutes, this way the last wave will be out of the water by 15:00."
   ]
  },
  {
   "cell_type": "markdown",
   "metadata": {},
   "source": [
    "## Conclusion\n",
    "\n",
    "The swim meet is proposed to be conducted from 07:00 to 15:00 pm, with the following route:\n",
    "\n",
    "![Route 3](images/Ams%20Canal%20Speeds-Layout1-16.jpg)\n"
   ]
  },
  {
   "cell_type": "markdown",
   "metadata": {},
   "source": []
  }
 ],
 "metadata": {
  "kernelspec": {
   "display_name": "Python 3",
   "language": "python",
   "name": "python3"
  },
  "language_info": {
   "codemirror_mode": {
    "name": "ipython",
    "version": 3
   },
   "file_extension": ".py",
   "mimetype": "text/x-python",
   "name": "python",
   "nbconvert_exporter": "python",
   "pygments_lexer": "ipython3",
   "version": "3.11.5"
  }
 },
 "nbformat": 4,
 "nbformat_minor": 2
}
