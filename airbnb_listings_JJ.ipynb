{
 "cells": [
  {
   "cell_type": "code",
   "execution_count": null,
   "id": "c74ffbd4",
   "metadata": {},
   "outputs": [],
   "source": [
    "---\n",
    "title: \"Housing\"\n",
    "format: html\n",
    "bibliography: references.bib\n",
    "---"
   ]
  },
  {
   "cell_type": "code",
   "execution_count": 2,
   "id": "6f788cca-9e1f-4c86-b253-ab965157a2c2",
   "metadata": {},
   "outputs": [
    {
     "name": "stderr",
     "output_type": "stream",
     "text": [
      "1:1: E265 block comment should start with '# '\n",
      "2:1: E265 block comment should start with '# '\n"
     ]
    },
    {
     "name": "stdout",
     "output_type": "stream",
     "text": [
      "The pycodestyle_magic extension is already loaded. To reload it, use:\n",
      "  %reload_ext pycodestyle_magic\n"
     ]
    }
   ],
   "source": [
    "#| output: false\n",
    "#| echo: false\n",
    "\n",
    "%load_ext pycodestyle_magic\n",
    "%pycodestyle_on"
   ]
  },
  {
   "cell_type": "markdown",
   "id": "730063da",
   "metadata": {},
   "source": [
    "### Note:"
   ]
  },
  {
   "cell_type": "markdown",
   "id": "b1820824",
   "metadata": {},
   "source": [
    "Before running this notebook, please download [listings.csv.gz](http://data.insideairbnb.com/the-netherlands/north-holland/amsterdam/2023-09-03/data/listings.csv.gz) and place the extracted `listings.csv` in the `data` directory. "
   ]
  },
  {
   "cell_type": "markdown",
   "id": "7343fa50",
   "metadata": {},
   "source": [
    "# Assignment 3 : Housing"
   ]
  },
  {
   "cell_type": "markdown",
   "id": "112b64ee",
   "metadata": {},
   "source": [
    "### Preliminary Data\n",
    "#### The following infomation was found prior to the start of the assignment in order to use it."
   ]
  },
  {
   "cell_type": "markdown",
   "id": "2748cd95-939e-4200-adee-2cdac1c8cf2c",
   "metadata": {},
   "source": [
    "tax hotels = 7% of turnover + 3 euros per room\n",
    "tax airbnb = 10% = 3 euros\n",
    "number of visitors = 30000"
   ]
  },
  {
   "cell_type": "markdown",
   "id": "d2e081b4",
   "metadata": {},
   "source": [
    "Library imports and DataFrame generation"
   ]
  },
  {
   "cell_type": "code",
   "execution_count": 112,
   "id": "c51c891d-6cea-4019-a1f6-766c43538df4",
   "metadata": {
    "tags": []
   },
   "outputs": [],
   "source": [
    "import pandas as pd\n",
    "import geopandas as gpd\n",
    "\n",
    "csv_data = list()\n",
    "listings = open(\"C:/Users/jjcor/Downloads/listings_full.csv\",'r', encoding='latin1') #\"./data/listings.csv\"\n",
    "for line in listings:\n",
    "    data = line.split(',')\n",
    "    csv_data.append(data)\n",
    "\n",
    "listings.close()\n",
    "\n",
    "df = pd.read_csv(\"C:/Users/jjcor/Downloads/listings_full.csv\", encoding='latin1')\n"
   ]
  },
  {
   "cell_type": "markdown",
   "id": "d1b78a71",
   "metadata": {},
   "source": [
    "#### 1. What Amsterdam will receive from tourist tax if the event lasts a week and you will have 30.000 visitors?"
   ]
  },
  {
   "cell_type": "markdown",
   "id": "4dccea34",
   "metadata": {},
   "source": [
    "#### Pseudocode\n",
    "\n",
    "1. Discard listings with minimum stays of more than 7 nights\n",
    "2. Sum the total ammount of people that fit the remaining airbnbs accomodate (#19812)\n",
    "3. Calculate average price of accomodation remaining listings\n",
    "4. for the remaining visitors (11188) they will stay in hotels --> average of 2.2 beds per room\n",
    "5. Divide the number of rooms between the remaining tourists\n",
    "6. Multiply number of available beds to average price\n",
    "7. Sum airbnb + hotels taxes accordingly"
   ]
  },
  {
   "cell_type": "code",
   "execution_count": null,
   "id": "e84b1c62",
   "metadata": {},
   "outputs": [],
   "source": [
    "#Gathering information shortcuts:\n",
    " \n",
    "#ok_listings = pd.DataFrame(df.columns)\n",
    "#print(df.columns)\n",
    "#print(df.columns[34])\n",
    "#print(df.maximum_nights)"
   ]
  },
  {
   "cell_type": "markdown",
   "id": "e95e5f8b",
   "metadata": {},
   "source": [
    "### Code:"
   ]
  },
  {
   "cell_type": "code",
   "execution_count": 37,
   "id": "59b7e1c8",
   "metadata": {},
   "outputs": [
    {
     "name": "stdout",
     "output_type": "stream",
     "text": [
      "Number of Airbnb listings with at most 7 days of minimal nights : 23407.0\n",
      "Number of people who needs to stay in hotel rooms :  6593.0\n",
      "Total tax revenue from Airbnb locations $ 1469366.9000000001\n",
      "Total tax revenue from hotel rooms $ 71543.25226687785\n",
      "Total tax revenue gathered for the government 1540910.152266878\n"
     ]
    }
   ],
   "source": [
    "#we discard listings with minimum stays of more than 7 nights\n",
    "ok_listings = df[(df['minimum_nights'] < 8)].copy()\n",
    "\n",
    "#we check that all numeric values in our DataFrame sum\n",
    "test = ok_listings.sum(axis=0,numeric_only=True)\n",
    "\n",
    "#we sum individually the column 'accommodates' so we can retrieve the number of people who can stay \n",
    "no_ppl = ok_listings.accommodates.sum()\n",
    "\n",
    "print('Number of Airbnb listings with at most 7 days of minimal nights :', no_ppl)\n",
    "#print(test) success\n",
    "\n",
    "tourists = 30000\n",
    "\n",
    "tourists_hotel = tourists-no_ppl\n",
    "\n",
    "print('Number of people who needs to stay in hotel rooms',': ', tourists_hotel)\n",
    "#print(ok_listings)\n",
    "\n",
    "#Average cost of overnight accommodation in Amsterdam in the Netherlands from January 2019 to June 2023\n",
    "##https://www.statista.com/statistics/614061/overnight-accommodation-costs-amsterdam-city/\n",
    "\n",
    "hotel_price_per_night = 294\n",
    "\n",
    "#https://www.cbs.nl/en-gb/figures/detail/84040ENG\n",
    "#Hotels; capacity, type of accommodation, beds, star rating\n",
    "\n",
    "hotel_rooms_ams = 41840\n",
    "hotel_beds_ams = 90918\n",
    "\n",
    "avg_beds_per_room = hotel_beds_ams/hotel_rooms_ams\n",
    "\n",
    "#print(avg_beds_per_room)\n",
    "\n",
    "#Number of hotel rooms used by tourists who don't fit in airbnbs\n",
    "no_hotel_rooms_used = tourists_hotel/avg_beds_per_room\n",
    "\n",
    "revenue_hotels = no_hotel_rooms_used*hotel_price_per_night\n",
    "\n",
    "tax_hotels = revenue_hotels * 0.07 + no_hotel_rooms_used * 3\n",
    "\n",
    "#getting rid of $ signs in column\n",
    "new_price = df['price'].str.slice(1,-1)\n",
    "\n",
    "#adding new_price as a column in our dataframe\n",
    "ok_listings['new_price'] = new_price\n",
    "\n",
    "ok_listings['new_price']=ok_listings['new_price'].str.replace(',','')\n",
    "\n",
    "#converting new column values to float so we can math it up =P\n",
    "ok_listings['new_price'] = ok_listings['new_price'].astype(float)\n",
    "\n",
    "#calculating total revenue of airbnb by summing all location price per night and then times 7 (number of days in a week)\n",
    "revenue_airbnb = ok_listings.new_price.sum()*7\n",
    "\n",
    "tax_airbnb = float(revenue_airbnb)*.1 + float(len(new_price)*3)\n",
    "\n",
    "print('Total tax revenue from Airbnb locations $', tax_airbnb)\n",
    "print('Total tax revenue from hotel rooms $',tax_hotels)\n",
    "\n",
    "total_revenue = tax_airbnb + tax_hotels\n",
    "\n",
    "print('Total tax revenue gathered for the government', total_revenue)"
   ]
  },
  {
   "cell_type": "markdown",
   "id": "40827f00",
   "metadata": {},
   "source": [
    "### 2. Plot the amount of AirBnB locations per neighbourhood."
   ]
  },
  {
   "cell_type": "markdown",
   "id": "24a18321-6fcd-4a80-9850-d547d1836ce6",
   "metadata": {},
   "source": [
    "### Pseudocode\n",
    "1. Filter from dataframe the locations of airbnb\n",
    "2. Gather the different categories inside the column neighourhood\n",
    "3. Sum each category inside neighbourhood"
   ]
  },
  {
   "cell_type": "code",
   "execution_count": 66,
   "id": "05f018f9-10e5-4bce-9c08-a2450e3c9bde",
   "metadata": {},
   "outputs": [
    {
     "name": "stdout",
     "output_type": "stream",
     "text": [
      "                    neighbourhood_cleansed  count\n",
      "0                   De Baarsjes - Oud-West   1329\n",
      "1                             Centrum-West    973\n",
      "2                  De Pijp - Rivierenbuurt    898\n",
      "3                             Centrum-Oost    766\n",
      "4                                     Zuid    571\n",
      "5                               Westerpark    561\n",
      "6                                 Oud-Oost    475\n",
      "7                            Bos en Lommer    399\n",
      "8                                Oud-Noord    389\n",
      "9   Oostelijk Havengebied - Indische Buurt    304\n",
      "10                         Watergraafsmeer    249\n",
      "11                              Noord-West    212\n",
      "12                IJburg - Zeeburgereiland    173\n",
      "13                             Slotervaart    156\n",
      "14                              Noord-Oost    135\n",
      "15                 Geuzenveld - Slotermeer    110\n",
      "16                  Buitenveldert - Zuidas     96\n",
      "17                  De Aker - Nieuw Sloten     67\n",
      "18                         Bijlmer-Centrum     47\n",
      "19                   Gaasperdam - Driemond     45\n",
      "20                                  Osdorp     43\n",
      "21                            Bijlmer-Oost     37\n"
     ]
    }
   ],
   "source": [
    "#It can't get mpre efficient than this\n",
    "import plotly.express as px\n",
    "#table = ok_listings.neighbourhood_cleansed.value_counts()\n",
    "re_index = ok_listings['neighbourhood_cleansed'].value_counts().reset_index().rename(columns={\"index\": 'neighbourhood', 0 : 'count'})\n",
    "print(re_index )"
   ]
  },
  {
   "cell_type": "code",
   "execution_count": 67,
   "metadata": {},
   "outputs": [
    {
     "data": {
      "application/vnd.plotly.v1+json": {
       "config": {
        "plotlyServerURL": "https://plot.ly"
       },
       "data": [
        {
         "alignmentgroup": "True",
         "hovertemplate": "neighbourhood_cleansed=%{x}<br>count=%{y}<extra></extra>",
         "legendgroup": "",
         "marker": {
          "color": "#636efa",
          "pattern": {
           "shape": ""
          }
         },
         "name": "",
         "offsetgroup": "",
         "orientation": "v",
         "showlegend": false,
         "textposition": "auto",
         "type": "bar",
         "x": [
          "De Baarsjes - Oud-West",
          "Centrum-West",
          "De Pijp - Rivierenbuurt",
          "Centrum-Oost",
          "Zuid",
          "Westerpark",
          "Oud-Oost",
          "Bos en Lommer",
          "Oud-Noord",
          "Oostelijk Havengebied - Indische Buurt",
          "Watergraafsmeer",
          "Noord-West",
          "IJburg - Zeeburgereiland",
          "Slotervaart",
          "Noord-Oost",
          "Geuzenveld - Slotermeer",
          "Buitenveldert - Zuidas",
          "De Aker - Nieuw Sloten",
          "Bijlmer-Centrum",
          "Gaasperdam - Driemond",
          "Osdorp",
          "Bijlmer-Oost"
         ],
         "xaxis": "x",
         "y": [
          1329,
          973,
          898,
          766,
          571,
          561,
          475,
          399,
          389,
          304,
          249,
          212,
          173,
          156,
          135,
          110,
          96,
          67,
          47,
          45,
          43,
          37
         ],
         "yaxis": "y"
        }
       ],
       "layout": {
        "barmode": "relative",
        "legend": {
         "tracegroupgap": 0
        },
        "template": {
         "data": {
          "bar": [
           {
            "error_x": {
             "color": "#2a3f5f"
            },
            "error_y": {
             "color": "#2a3f5f"
            },
            "marker": {
             "line": {
              "color": "#E5ECF6",
              "width": 0.5
             },
             "pattern": {
              "fillmode": "overlay",
              "size": 10,
              "solidity": 0.2
             }
            },
            "type": "bar"
           }
          ],
          "barpolar": [
           {
            "marker": {
             "line": {
              "color": "#E5ECF6",
              "width": 0.5
             },
             "pattern": {
              "fillmode": "overlay",
              "size": 10,
              "solidity": 0.2
             }
            },
            "type": "barpolar"
           }
          ],
          "carpet": [
           {
            "aaxis": {
             "endlinecolor": "#2a3f5f",
             "gridcolor": "white",
             "linecolor": "white",
             "minorgridcolor": "white",
             "startlinecolor": "#2a3f5f"
            },
            "baxis": {
             "endlinecolor": "#2a3f5f",
             "gridcolor": "white",
             "linecolor": "white",
             "minorgridcolor": "white",
             "startlinecolor": "#2a3f5f"
            },
            "type": "carpet"
           }
          ],
          "choropleth": [
           {
            "colorbar": {
             "outlinewidth": 0,
             "ticks": ""
            },
            "type": "choropleth"
           }
          ],
          "contour": [
           {
            "colorbar": {
             "outlinewidth": 0,
             "ticks": ""
            },
            "colorscale": [
             [
              0,
              "#0d0887"
             ],
             [
              0.1111111111111111,
              "#46039f"
             ],
             [
              0.2222222222222222,
              "#7201a8"
             ],
             [
              0.3333333333333333,
              "#9c179e"
             ],
             [
              0.4444444444444444,
              "#bd3786"
             ],
             [
              0.5555555555555556,
              "#d8576b"
             ],
             [
              0.6666666666666666,
              "#ed7953"
             ],
             [
              0.7777777777777778,
              "#fb9f3a"
             ],
             [
              0.8888888888888888,
              "#fdca26"
             ],
             [
              1,
              "#f0f921"
             ]
            ],
            "type": "contour"
           }
          ],
          "contourcarpet": [
           {
            "colorbar": {
             "outlinewidth": 0,
             "ticks": ""
            },
            "type": "contourcarpet"
           }
          ],
          "heatmap": [
           {
            "colorbar": {
             "outlinewidth": 0,
             "ticks": ""
            },
            "colorscale": [
             [
              0,
              "#0d0887"
             ],
             [
              0.1111111111111111,
              "#46039f"
             ],
             [
              0.2222222222222222,
              "#7201a8"
             ],
             [
              0.3333333333333333,
              "#9c179e"
             ],
             [
              0.4444444444444444,
              "#bd3786"
             ],
             [
              0.5555555555555556,
              "#d8576b"
             ],
             [
              0.6666666666666666,
              "#ed7953"
             ],
             [
              0.7777777777777778,
              "#fb9f3a"
             ],
             [
              0.8888888888888888,
              "#fdca26"
             ],
             [
              1,
              "#f0f921"
             ]
            ],
            "type": "heatmap"
           }
          ],
          "heatmapgl": [
           {
            "colorbar": {
             "outlinewidth": 0,
             "ticks": ""
            },
            "colorscale": [
             [
              0,
              "#0d0887"
             ],
             [
              0.1111111111111111,
              "#46039f"
             ],
             [
              0.2222222222222222,
              "#7201a8"
             ],
             [
              0.3333333333333333,
              "#9c179e"
             ],
             [
              0.4444444444444444,
              "#bd3786"
             ],
             [
              0.5555555555555556,
              "#d8576b"
             ],
             [
              0.6666666666666666,
              "#ed7953"
             ],
             [
              0.7777777777777778,
              "#fb9f3a"
             ],
             [
              0.8888888888888888,
              "#fdca26"
             ],
             [
              1,
              "#f0f921"
             ]
            ],
            "type": "heatmapgl"
           }
          ],
          "histogram": [
           {
            "marker": {
             "pattern": {
              "fillmode": "overlay",
              "size": 10,
              "solidity": 0.2
             }
            },
            "type": "histogram"
           }
          ],
          "histogram2d": [
           {
            "colorbar": {
             "outlinewidth": 0,
             "ticks": ""
            },
            "colorscale": [
             [
              0,
              "#0d0887"
             ],
             [
              0.1111111111111111,
              "#46039f"
             ],
             [
              0.2222222222222222,
              "#7201a8"
             ],
             [
              0.3333333333333333,
              "#9c179e"
             ],
             [
              0.4444444444444444,
              "#bd3786"
             ],
             [
              0.5555555555555556,
              "#d8576b"
             ],
             [
              0.6666666666666666,
              "#ed7953"
             ],
             [
              0.7777777777777778,
              "#fb9f3a"
             ],
             [
              0.8888888888888888,
              "#fdca26"
             ],
             [
              1,
              "#f0f921"
             ]
            ],
            "type": "histogram2d"
           }
          ],
          "histogram2dcontour": [
           {
            "colorbar": {
             "outlinewidth": 0,
             "ticks": ""
            },
            "colorscale": [
             [
              0,
              "#0d0887"
             ],
             [
              0.1111111111111111,
              "#46039f"
             ],
             [
              0.2222222222222222,
              "#7201a8"
             ],
             [
              0.3333333333333333,
              "#9c179e"
             ],
             [
              0.4444444444444444,
              "#bd3786"
             ],
             [
              0.5555555555555556,
              "#d8576b"
             ],
             [
              0.6666666666666666,
              "#ed7953"
             ],
             [
              0.7777777777777778,
              "#fb9f3a"
             ],
             [
              0.8888888888888888,
              "#fdca26"
             ],
             [
              1,
              "#f0f921"
             ]
            ],
            "type": "histogram2dcontour"
           }
          ],
          "mesh3d": [
           {
            "colorbar": {
             "outlinewidth": 0,
             "ticks": ""
            },
            "type": "mesh3d"
           }
          ],
          "parcoords": [
           {
            "line": {
             "colorbar": {
              "outlinewidth": 0,
              "ticks": ""
             }
            },
            "type": "parcoords"
           }
          ],
          "pie": [
           {
            "automargin": true,
            "type": "pie"
           }
          ],
          "scatter": [
           {
            "fillpattern": {
             "fillmode": "overlay",
             "size": 10,
             "solidity": 0.2
            },
            "type": "scatter"
           }
          ],
          "scatter3d": [
           {
            "line": {
             "colorbar": {
              "outlinewidth": 0,
              "ticks": ""
             }
            },
            "marker": {
             "colorbar": {
              "outlinewidth": 0,
              "ticks": ""
             }
            },
            "type": "scatter3d"
           }
          ],
          "scattercarpet": [
           {
            "marker": {
             "colorbar": {
              "outlinewidth": 0,
              "ticks": ""
             }
            },
            "type": "scattercarpet"
           }
          ],
          "scattergeo": [
           {
            "marker": {
             "colorbar": {
              "outlinewidth": 0,
              "ticks": ""
             }
            },
            "type": "scattergeo"
           }
          ],
          "scattergl": [
           {
            "marker": {
             "colorbar": {
              "outlinewidth": 0,
              "ticks": ""
             }
            },
            "type": "scattergl"
           }
          ],
          "scattermapbox": [
           {
            "marker": {
             "colorbar": {
              "outlinewidth": 0,
              "ticks": ""
             }
            },
            "type": "scattermapbox"
           }
          ],
          "scatterpolar": [
           {
            "marker": {
             "colorbar": {
              "outlinewidth": 0,
              "ticks": ""
             }
            },
            "type": "scatterpolar"
           }
          ],
          "scatterpolargl": [
           {
            "marker": {
             "colorbar": {
              "outlinewidth": 0,
              "ticks": ""
             }
            },
            "type": "scatterpolargl"
           }
          ],
          "scatterternary": [
           {
            "marker": {
             "colorbar": {
              "outlinewidth": 0,
              "ticks": ""
             }
            },
            "type": "scatterternary"
           }
          ],
          "surface": [
           {
            "colorbar": {
             "outlinewidth": 0,
             "ticks": ""
            },
            "colorscale": [
             [
              0,
              "#0d0887"
             ],
             [
              0.1111111111111111,
              "#46039f"
             ],
             [
              0.2222222222222222,
              "#7201a8"
             ],
             [
              0.3333333333333333,
              "#9c179e"
             ],
             [
              0.4444444444444444,
              "#bd3786"
             ],
             [
              0.5555555555555556,
              "#d8576b"
             ],
             [
              0.6666666666666666,
              "#ed7953"
             ],
             [
              0.7777777777777778,
              "#fb9f3a"
             ],
             [
              0.8888888888888888,
              "#fdca26"
             ],
             [
              1,
              "#f0f921"
             ]
            ],
            "type": "surface"
           }
          ],
          "table": [
           {
            "cells": {
             "fill": {
              "color": "#EBF0F8"
             },
             "line": {
              "color": "white"
             }
            },
            "header": {
             "fill": {
              "color": "#C8D4E3"
             },
             "line": {
              "color": "white"
             }
            },
            "type": "table"
           }
          ]
         },
         "layout": {
          "annotationdefaults": {
           "arrowcolor": "#2a3f5f",
           "arrowhead": 0,
           "arrowwidth": 1
          },
          "autotypenumbers": "strict",
          "coloraxis": {
           "colorbar": {
            "outlinewidth": 0,
            "ticks": ""
           }
          },
          "colorscale": {
           "diverging": [
            [
             0,
             "#8e0152"
            ],
            [
             0.1,
             "#c51b7d"
            ],
            [
             0.2,
             "#de77ae"
            ],
            [
             0.3,
             "#f1b6da"
            ],
            [
             0.4,
             "#fde0ef"
            ],
            [
             0.5,
             "#f7f7f7"
            ],
            [
             0.6,
             "#e6f5d0"
            ],
            [
             0.7,
             "#b8e186"
            ],
            [
             0.8,
             "#7fbc41"
            ],
            [
             0.9,
             "#4d9221"
            ],
            [
             1,
             "#276419"
            ]
           ],
           "sequential": [
            [
             0,
             "#0d0887"
            ],
            [
             0.1111111111111111,
             "#46039f"
            ],
            [
             0.2222222222222222,
             "#7201a8"
            ],
            [
             0.3333333333333333,
             "#9c179e"
            ],
            [
             0.4444444444444444,
             "#bd3786"
            ],
            [
             0.5555555555555556,
             "#d8576b"
            ],
            [
             0.6666666666666666,
             "#ed7953"
            ],
            [
             0.7777777777777778,
             "#fb9f3a"
            ],
            [
             0.8888888888888888,
             "#fdca26"
            ],
            [
             1,
             "#f0f921"
            ]
           ],
           "sequentialminus": [
            [
             0,
             "#0d0887"
            ],
            [
             0.1111111111111111,
             "#46039f"
            ],
            [
             0.2222222222222222,
             "#7201a8"
            ],
            [
             0.3333333333333333,
             "#9c179e"
            ],
            [
             0.4444444444444444,
             "#bd3786"
            ],
            [
             0.5555555555555556,
             "#d8576b"
            ],
            [
             0.6666666666666666,
             "#ed7953"
            ],
            [
             0.7777777777777778,
             "#fb9f3a"
            ],
            [
             0.8888888888888888,
             "#fdca26"
            ],
            [
             1,
             "#f0f921"
            ]
           ]
          },
          "colorway": [
           "#636efa",
           "#EF553B",
           "#00cc96",
           "#ab63fa",
           "#FFA15A",
           "#19d3f3",
           "#FF6692",
           "#B6E880",
           "#FF97FF",
           "#FECB52"
          ],
          "font": {
           "color": "#2a3f5f"
          },
          "geo": {
           "bgcolor": "white",
           "lakecolor": "white",
           "landcolor": "#E5ECF6",
           "showlakes": true,
           "showland": true,
           "subunitcolor": "white"
          },
          "hoverlabel": {
           "align": "left"
          },
          "hovermode": "closest",
          "mapbox": {
           "style": "light"
          },
          "paper_bgcolor": "white",
          "plot_bgcolor": "#E5ECF6",
          "polar": {
           "angularaxis": {
            "gridcolor": "white",
            "linecolor": "white",
            "ticks": ""
           },
           "bgcolor": "#E5ECF6",
           "radialaxis": {
            "gridcolor": "white",
            "linecolor": "white",
            "ticks": ""
           }
          },
          "scene": {
           "xaxis": {
            "backgroundcolor": "#E5ECF6",
            "gridcolor": "white",
            "gridwidth": 2,
            "linecolor": "white",
            "showbackground": true,
            "ticks": "",
            "zerolinecolor": "white"
           },
           "yaxis": {
            "backgroundcolor": "#E5ECF6",
            "gridcolor": "white",
            "gridwidth": 2,
            "linecolor": "white",
            "showbackground": true,
            "ticks": "",
            "zerolinecolor": "white"
           },
           "zaxis": {
            "backgroundcolor": "#E5ECF6",
            "gridcolor": "white",
            "gridwidth": 2,
            "linecolor": "white",
            "showbackground": true,
            "ticks": "",
            "zerolinecolor": "white"
           }
          },
          "shapedefaults": {
           "line": {
            "color": "#2a3f5f"
           }
          },
          "ternary": {
           "aaxis": {
            "gridcolor": "white",
            "linecolor": "white",
            "ticks": ""
           },
           "baxis": {
            "gridcolor": "white",
            "linecolor": "white",
            "ticks": ""
           },
           "bgcolor": "#E5ECF6",
           "caxis": {
            "gridcolor": "white",
            "linecolor": "white",
            "ticks": ""
           }
          },
          "title": {
           "x": 0.05
          },
          "xaxis": {
           "automargin": true,
           "gridcolor": "white",
           "linecolor": "white",
           "ticks": "",
           "title": {
            "standoff": 15
           },
           "zerolinecolor": "white",
           "zerolinewidth": 2
          },
          "yaxis": {
           "automargin": true,
           "gridcolor": "white",
           "linecolor": "white",
           "ticks": "",
           "title": {
            "standoff": 15
           },
           "zerolinecolor": "white",
           "zerolinewidth": 2
          }
         }
        },
        "title": {
         "text": "Number of airbnbs per neighbourhood in Amsterdam"
        },
        "xaxis": {
         "anchor": "y",
         "domain": [
          0,
          1
         ],
         "title": {
          "text": "neighbourhood_cleansed"
         }
        },
        "yaxis": {
         "anchor": "x",
         "domain": [
          0,
          1
         ],
         "title": {
          "text": "count"
         }
        }
       }
      }
     },
     "metadata": {},
     "output_type": "display_data"
    }
   ],
   "source": [
    "#graph with information\n",
    "figure = px.bar(re_index, x='neighbourhood_cleansed', y='count', title =  'Number of airbnbs per neighbourhood in Amsterdam')\n",
    "figure.show()"
   ]
  },
  {
   "cell_type": "markdown",
   "id": "aa75bcc8",
   "metadata": {},
   "source": [
    "### 3: Which street in Amsterdam has the most AirBnB apartments?"
   ]
  },
  {
   "cell_type": "markdown",
   "id": "d8b243d4",
   "metadata": {},
   "source": [
    "### Pseudocode\n",
    "1. Find the locations of airbnb through lat and long.\n",
    "2. Add the street category to the DataFrame.\n",
    "3. Gather the different categories inside the column Street.\n",
    "4. Sum each category per street filter."
   ]
  },
  {
   "cell_type": "code",
   "execution_count": 121,
   "id": "076f181d-bd10-44f7-9281-d1e9d022bcbd",
   "metadata": {},
   "outputs": [
    {
     "name": "stdout",
     "output_type": "stream",
     "text": [
      "Index(['ï»¿id', 'listing_url', 'scrape_id', 'last_scraped', 'source', 'name',\n",
      "       'description', 'neighborhood_overview', 'picture_url', 'host_id',\n",
      "       'host_url', 'host_name', 'host_since', 'host_location', 'host_about',\n",
      "       'host_response_time', 'host_response_rate', 'host_acceptance_rate',\n",
      "       'host_is_superhost', 'host_thumbnail_url', 'host_picture_url',\n",
      "       'host_neighbourhood', 'host_listings_count',\n",
      "       'host_total_listings_count', 'host_verifications',\n",
      "       'host_has_profile_pic', 'host_identity_verified', 'neighbourhood',\n",
      "       'neighbourhood_cleansed', 'neighbourhood_group_cleansed', 'latitude',\n",
      "       'longitude', 'property_type', 'room_type', 'accommodates', 'bathrooms',\n",
      "       'bathrooms_text', 'bedrooms', 'beds', 'amenities', 'price',\n",
      "       'minimum_nights', 'maximum_nights', 'minimum_minimum_nights',\n",
      "       'maximum_minimum_nights', 'minimum_maximum_nights',\n",
      "       'maximum_maximum_nights', 'minimum_nights_avg_ntm',\n",
      "       'maximum_nights_avg_ntm', 'calendar_updated', 'has_availability',\n",
      "       'availability_30', 'availability_60', 'availability_90',\n",
      "       'availability_365', 'calendar_last_scraped', 'number_of_reviews',\n",
      "       'number_of_reviews_ltm', 'number_of_reviews_l30d', 'first_review',\n",
      "       'last_review', 'review_scores_rating', 'review_scores_accuracy',\n",
      "       'review_scores_cleanliness', 'review_scores_checkin',\n",
      "       'review_scores_communication', 'review_scores_location',\n",
      "       'review_scores_value', 'license', 'instant_bookable',\n",
      "       'calculated_host_listings_count',\n",
      "       'calculated_host_listings_count_entire_homes',\n",
      "       'calculated_host_listings_count_private_rooms',\n",
      "       'calculated_host_listings_count_shared_rooms', 'reviews_per_month',\n",
      "       'new_price'],\n",
      "      dtype='object')\n"
     ]
    },
    {
     "name": "stderr",
     "output_type": "stream",
     "text": [
      "C:\\Users\\jjcor\\AppData\\Local\\Temp\\ipykernel_5424\\340548867.py:31: SettingWithCopyWarning:\n",
      "\n",
      "\n",
      "A value is trying to be set on a copy of a slice from a DataFrame.\n",
      "Try using .loc[row_indexer,col_indexer] = value instead\n",
      "\n",
      "See the caveats in the documentation: https://pandas.pydata.org/pandas-docs/stable/user_guide/indexing.html#returning-a-view-versus-a-copy\n",
      "\n",
      "C:\\Users\\jjcor\\AppData\\Local\\Temp\\ipykernel_5424\\340548867.py:36: SettingWithCopyWarning:\n",
      "\n",
      "\n",
      "A value is trying to be set on a copy of a slice from a DataFrame.\n",
      "Try using .loc[row_indexer,col_indexer] = value instead\n",
      "\n",
      "See the caveats in the documentation: https://pandas.pydata.org/pandas-docs/stable/user_guide/indexing.html#returning-a-view-versus-a-copy\n",
      "\n"
     ]
    },
    {
     "ename": "ValueError",
     "evalue": "could not convert string to float: '52..37'",
     "output_type": "error",
     "traceback": [
      "\u001b[1;31m---------------------------------------------------------------------------\u001b[0m",
      "\u001b[1;31mValueError\u001b[0m                                Traceback (most recent call last)",
      "\u001b[1;32mc:\\Users\\jjcor\\Desktop\\MSc MADE\\Metropolitan Data 1\\221088_Git_Test 2\\paralympics-report\\airbnb_listings_JJ.ipynb Cell 21\u001b[0m line \u001b[0;36m3\n\u001b[0;32m     <a href='vscode-notebook-cell:/c%3A/Users/jjcor/Desktop/MSc%20MADE/Metropolitan%20Data%201/221088_Git_Test%202/paralympics-report/airbnb_listings_JJ.ipynb#X25sZmlsZQ%3D%3D?line=31'>32</a>\u001b[0m \u001b[39m#geolocs_airbnb.longitude = (geolocs_airbnb.longitude.str[:1] + geolocs_airbnb.longitude.str[1:]).astype(float)\u001b[39;00m\n\u001b[0;32m     <a href='vscode-notebook-cell:/c%3A/Users/jjcor/Desktop/MSc%20MADE/Metropolitan%20Data%201/221088_Git_Test%202/paralympics-report/airbnb_listings_JJ.ipynb#X25sZmlsZQ%3D%3D?line=32'>33</a>\u001b[0m \n\u001b[0;32m     <a href='vscode-notebook-cell:/c%3A/Users/jjcor/Desktop/MSc%20MADE/Metropolitan%20Data%201/221088_Git_Test%202/paralympics-report/airbnb_listings_JJ.ipynb#X25sZmlsZQ%3D%3D?line=33'>34</a>\u001b[0m \u001b[39m#print(geolocs_airbnb.longitude)\u001b[39;00m\n\u001b[0;32m     <a href='vscode-notebook-cell:/c%3A/Users/jjcor/Desktop/MSc%20MADE/Metropolitan%20Data%201/221088_Git_Test%202/paralympics-report/airbnb_listings_JJ.ipynb#X25sZmlsZQ%3D%3D?line=35'>36</a>\u001b[0m geolocs_airbnb[\u001b[39m'\u001b[39m\u001b[39mlatitude\u001b[39m\u001b[39m'\u001b[39m]\u001b[39m=\u001b[39mgeolocs_airbnb[\u001b[39m'\u001b[39m\u001b[39mlatitude\u001b[39m\u001b[39m'\u001b[39m]\u001b[39m.\u001b[39mstr\u001b[39m.\u001b[39mreplace(\u001b[39m'\u001b[39m\u001b[39m,\u001b[39m\u001b[39m'\u001b[39m,\u001b[39m'\u001b[39m\u001b[39m'\u001b[39m)\n\u001b[1;32m---> <a href='vscode-notebook-cell:/c%3A/Users/jjcor/Desktop/MSc%20MADE/Metropolitan%20Data%201/221088_Git_Test%202/paralympics-report/airbnb_listings_JJ.ipynb#X25sZmlsZQ%3D%3D?line=36'>37</a>\u001b[0m geolocs_airbnb\u001b[39m.\u001b[39mlatitude \u001b[39m=\u001b[39m (geolocs_airbnb\u001b[39m.\u001b[39;49mlatitude\u001b[39m.\u001b[39;49mstr[:\u001b[39m2\u001b[39;49m] \u001b[39m+\u001b[39;49m \u001b[39m'\u001b[39;49m\u001b[39m.\u001b[39;49m\u001b[39m'\u001b[39;49m \u001b[39m+\u001b[39;49m geolocs_airbnb\u001b[39m.\u001b[39;49mlatitude\u001b[39m.\u001b[39;49mstr[\u001b[39m2\u001b[39;49m:])\u001b[39m.\u001b[39;49mastype(\u001b[39mfloat\u001b[39;49m)\n\u001b[0;32m     <a href='vscode-notebook-cell:/c%3A/Users/jjcor/Desktop/MSc%20MADE/Metropolitan%20Data%201/221088_Git_Test%202/paralympics-report/airbnb_listings_JJ.ipynb#X25sZmlsZQ%3D%3D?line=38'>39</a>\u001b[0m \u001b[39m#print(type(geolocs_airbnb.latitude[5]))\u001b[39;00m\n\u001b[0;32m     <a href='vscode-notebook-cell:/c%3A/Users/jjcor/Desktop/MSc%20MADE/Metropolitan%20Data%201/221088_Git_Test%202/paralympics-report/airbnb_listings_JJ.ipynb#X25sZmlsZQ%3D%3D?line=39'>40</a>\u001b[0m \n\u001b[0;32m     <a href='vscode-notebook-cell:/c%3A/Users/jjcor/Desktop/MSc%20MADE/Metropolitan%20Data%201/221088_Git_Test%202/paralympics-report/airbnb_listings_JJ.ipynb#X25sZmlsZQ%3D%3D?line=40'>41</a>\u001b[0m \u001b[39m#print(longitude)\u001b[39;00m\n\u001b[0;32m     <a href='vscode-notebook-cell:/c%3A/Users/jjcor/Desktop/MSc%20MADE/Metropolitan%20Data%201/221088_Git_Test%202/paralympics-report/airbnb_listings_JJ.ipynb#X25sZmlsZQ%3D%3D?line=41'>42</a>\u001b[0m \u001b[39m#print(geolocs_airbnb)\u001b[39;00m\n\u001b[0;32m     <a href='vscode-notebook-cell:/c%3A/Users/jjcor/Desktop/MSc%20MADE/Metropolitan%20Data%201/221088_Git_Test%202/paralympics-report/airbnb_listings_JJ.ipynb#X25sZmlsZQ%3D%3D?line=42'>43</a>\u001b[0m \u001b[39m#print(len(geolocs_airbnb))\u001b[39;00m\n\u001b[0;32m     <a href='vscode-notebook-cell:/c%3A/Users/jjcor/Desktop/MSc%20MADE/Metropolitan%20Data%201/221088_Git_Test%202/paralympics-report/airbnb_listings_JJ.ipynb#X25sZmlsZQ%3D%3D?line=43'>44</a>\u001b[0m \u001b[39mfor\u001b[39;00m i \u001b[39min\u001b[39;00m \u001b[39mrange\u001b[39m(\u001b[39mlen\u001b[39m(geolocs_airbnb)):\n",
      "File \u001b[1;32mc:\\Users\\jjcor\\AppData\\Local\\Programs\\Python\\Python311\\Lib\\site-packages\\pandas\\core\\generic.py:6534\u001b[0m, in \u001b[0;36mNDFrame.astype\u001b[1;34m(self, dtype, copy, errors)\u001b[0m\n\u001b[0;32m   6530\u001b[0m     results \u001b[39m=\u001b[39m [ser\u001b[39m.\u001b[39mastype(dtype, copy\u001b[39m=\u001b[39mcopy) \u001b[39mfor\u001b[39;00m _, ser \u001b[39min\u001b[39;00m \u001b[39mself\u001b[39m\u001b[39m.\u001b[39mitems()]\n\u001b[0;32m   6532\u001b[0m \u001b[39melse\u001b[39;00m:\n\u001b[0;32m   6533\u001b[0m     \u001b[39m# else, only a single dtype is given\u001b[39;00m\n\u001b[1;32m-> 6534\u001b[0m     new_data \u001b[39m=\u001b[39m \u001b[39mself\u001b[39;49m\u001b[39m.\u001b[39;49m_mgr\u001b[39m.\u001b[39;49mastype(dtype\u001b[39m=\u001b[39;49mdtype, copy\u001b[39m=\u001b[39;49mcopy, errors\u001b[39m=\u001b[39;49merrors)\n\u001b[0;32m   6535\u001b[0m     res \u001b[39m=\u001b[39m \u001b[39mself\u001b[39m\u001b[39m.\u001b[39m_constructor_from_mgr(new_data, axes\u001b[39m=\u001b[39mnew_data\u001b[39m.\u001b[39maxes)\n\u001b[0;32m   6536\u001b[0m     \u001b[39mreturn\u001b[39;00m res\u001b[39m.\u001b[39m__finalize__(\u001b[39mself\u001b[39m, method\u001b[39m=\u001b[39m\u001b[39m\"\u001b[39m\u001b[39mastype\u001b[39m\u001b[39m\"\u001b[39m)\n",
      "File \u001b[1;32mc:\\Users\\jjcor\\AppData\\Local\\Programs\\Python\\Python311\\Lib\\site-packages\\pandas\\core\\internals\\managers.py:414\u001b[0m, in \u001b[0;36mBaseBlockManager.astype\u001b[1;34m(self, dtype, copy, errors)\u001b[0m\n\u001b[0;32m    411\u001b[0m \u001b[39melif\u001b[39;00m using_copy_on_write():\n\u001b[0;32m    412\u001b[0m     copy \u001b[39m=\u001b[39m \u001b[39mFalse\u001b[39;00m\n\u001b[1;32m--> 414\u001b[0m \u001b[39mreturn\u001b[39;00m \u001b[39mself\u001b[39;49m\u001b[39m.\u001b[39;49mapply(\n\u001b[0;32m    415\u001b[0m     \u001b[39m\"\u001b[39;49m\u001b[39mastype\u001b[39;49m\u001b[39m\"\u001b[39;49m,\n\u001b[0;32m    416\u001b[0m     dtype\u001b[39m=\u001b[39;49mdtype,\n\u001b[0;32m    417\u001b[0m     copy\u001b[39m=\u001b[39;49mcopy,\n\u001b[0;32m    418\u001b[0m     errors\u001b[39m=\u001b[39;49merrors,\n\u001b[0;32m    419\u001b[0m     using_cow\u001b[39m=\u001b[39;49musing_copy_on_write(),\n\u001b[0;32m    420\u001b[0m )\n",
      "File \u001b[1;32mc:\\Users\\jjcor\\AppData\\Local\\Programs\\Python\\Python311\\Lib\\site-packages\\pandas\\core\\internals\\managers.py:354\u001b[0m, in \u001b[0;36mBaseBlockManager.apply\u001b[1;34m(self, f, align_keys, **kwargs)\u001b[0m\n\u001b[0;32m    352\u001b[0m         applied \u001b[39m=\u001b[39m b\u001b[39m.\u001b[39mapply(f, \u001b[39m*\u001b[39m\u001b[39m*\u001b[39mkwargs)\n\u001b[0;32m    353\u001b[0m     \u001b[39melse\u001b[39;00m:\n\u001b[1;32m--> 354\u001b[0m         applied \u001b[39m=\u001b[39m \u001b[39mgetattr\u001b[39;49m(b, f)(\u001b[39m*\u001b[39;49m\u001b[39m*\u001b[39;49mkwargs)\n\u001b[0;32m    355\u001b[0m     result_blocks \u001b[39m=\u001b[39m extend_blocks(applied, result_blocks)\n\u001b[0;32m    357\u001b[0m out \u001b[39m=\u001b[39m \u001b[39mtype\u001b[39m(\u001b[39mself\u001b[39m)\u001b[39m.\u001b[39mfrom_blocks(result_blocks, \u001b[39mself\u001b[39m\u001b[39m.\u001b[39maxes)\n",
      "File \u001b[1;32mc:\\Users\\jjcor\\AppData\\Local\\Programs\\Python\\Python311\\Lib\\site-packages\\pandas\\core\\internals\\blocks.py:616\u001b[0m, in \u001b[0;36mBlock.astype\u001b[1;34m(self, dtype, copy, errors, using_cow)\u001b[0m\n\u001b[0;32m    596\u001b[0m \u001b[39m\u001b[39m\u001b[39m\"\"\"\u001b[39;00m\n\u001b[0;32m    597\u001b[0m \u001b[39mCoerce to the new dtype.\u001b[39;00m\n\u001b[0;32m    598\u001b[0m \n\u001b[1;32m   (...)\u001b[0m\n\u001b[0;32m    612\u001b[0m \u001b[39mBlock\u001b[39;00m\n\u001b[0;32m    613\u001b[0m \u001b[39m\"\"\"\u001b[39;00m\n\u001b[0;32m    614\u001b[0m values \u001b[39m=\u001b[39m \u001b[39mself\u001b[39m\u001b[39m.\u001b[39mvalues\n\u001b[1;32m--> 616\u001b[0m new_values \u001b[39m=\u001b[39m astype_array_safe(values, dtype, copy\u001b[39m=\u001b[39;49mcopy, errors\u001b[39m=\u001b[39;49merrors)\n\u001b[0;32m    618\u001b[0m new_values \u001b[39m=\u001b[39m maybe_coerce_values(new_values)\n\u001b[0;32m    620\u001b[0m refs \u001b[39m=\u001b[39m \u001b[39mNone\u001b[39;00m\n",
      "File \u001b[1;32mc:\\Users\\jjcor\\AppData\\Local\\Programs\\Python\\Python311\\Lib\\site-packages\\pandas\\core\\dtypes\\astype.py:238\u001b[0m, in \u001b[0;36mastype_array_safe\u001b[1;34m(values, dtype, copy, errors)\u001b[0m\n\u001b[0;32m    235\u001b[0m     dtype \u001b[39m=\u001b[39m dtype\u001b[39m.\u001b[39mnumpy_dtype\n\u001b[0;32m    237\u001b[0m \u001b[39mtry\u001b[39;00m:\n\u001b[1;32m--> 238\u001b[0m     new_values \u001b[39m=\u001b[39m astype_array(values, dtype, copy\u001b[39m=\u001b[39;49mcopy)\n\u001b[0;32m    239\u001b[0m \u001b[39mexcept\u001b[39;00m (\u001b[39mValueError\u001b[39;00m, \u001b[39mTypeError\u001b[39;00m):\n\u001b[0;32m    240\u001b[0m     \u001b[39m# e.g. _astype_nansafe can fail on object-dtype of strings\u001b[39;00m\n\u001b[0;32m    241\u001b[0m     \u001b[39m#  trying to convert to float\u001b[39;00m\n\u001b[0;32m    242\u001b[0m     \u001b[39mif\u001b[39;00m errors \u001b[39m==\u001b[39m \u001b[39m\"\u001b[39m\u001b[39mignore\u001b[39m\u001b[39m\"\u001b[39m:\n",
      "File \u001b[1;32mc:\\Users\\jjcor\\AppData\\Local\\Programs\\Python\\Python311\\Lib\\site-packages\\pandas\\core\\dtypes\\astype.py:183\u001b[0m, in \u001b[0;36mastype_array\u001b[1;34m(values, dtype, copy)\u001b[0m\n\u001b[0;32m    180\u001b[0m     values \u001b[39m=\u001b[39m values\u001b[39m.\u001b[39mastype(dtype, copy\u001b[39m=\u001b[39mcopy)\n\u001b[0;32m    182\u001b[0m \u001b[39melse\u001b[39;00m:\n\u001b[1;32m--> 183\u001b[0m     values \u001b[39m=\u001b[39m _astype_nansafe(values, dtype, copy\u001b[39m=\u001b[39;49mcopy)\n\u001b[0;32m    185\u001b[0m \u001b[39m# in pandas we don't store numpy str dtypes, so convert to object\u001b[39;00m\n\u001b[0;32m    186\u001b[0m \u001b[39mif\u001b[39;00m \u001b[39misinstance\u001b[39m(dtype, np\u001b[39m.\u001b[39mdtype) \u001b[39mand\u001b[39;00m \u001b[39missubclass\u001b[39m(values\u001b[39m.\u001b[39mdtype\u001b[39m.\u001b[39mtype, \u001b[39mstr\u001b[39m):\n",
      "File \u001b[1;32mc:\\Users\\jjcor\\AppData\\Local\\Programs\\Python\\Python311\\Lib\\site-packages\\pandas\\core\\dtypes\\astype.py:134\u001b[0m, in \u001b[0;36m_astype_nansafe\u001b[1;34m(arr, dtype, copy, skipna)\u001b[0m\n\u001b[0;32m    130\u001b[0m     \u001b[39mraise\u001b[39;00m \u001b[39mValueError\u001b[39;00m(msg)\n\u001b[0;32m    132\u001b[0m \u001b[39mif\u001b[39;00m copy \u001b[39mor\u001b[39;00m arr\u001b[39m.\u001b[39mdtype \u001b[39m==\u001b[39m \u001b[39mobject\u001b[39m \u001b[39mor\u001b[39;00m dtype \u001b[39m==\u001b[39m \u001b[39mobject\u001b[39m:\n\u001b[0;32m    133\u001b[0m     \u001b[39m# Explicit copy, or required since NumPy can't view from / to object.\u001b[39;00m\n\u001b[1;32m--> 134\u001b[0m     \u001b[39mreturn\u001b[39;00m arr\u001b[39m.\u001b[39;49mastype(dtype, copy\u001b[39m=\u001b[39;49m\u001b[39mTrue\u001b[39;49;00m)\n\u001b[0;32m    136\u001b[0m \u001b[39mreturn\u001b[39;00m arr\u001b[39m.\u001b[39mastype(dtype, copy\u001b[39m=\u001b[39mcopy)\n",
      "\u001b[1;31mValueError\u001b[0m: could not convert string to float: '52..37'"
     ]
    }
   ],
   "source": [
    "#pip install geopy\n",
    "\n",
    "import certifi\n",
    "import ssl\n",
    "import geopy.geocoders\n",
    "from geopy.geocoders import Nominatim, Photon\n",
    "\n",
    "# Workaround to fix SSL certififcate expired error on some laptops\n",
    "# Solution taken from https://stackoverflow.com/a/50665487\n",
    "# Error message:\n",
    "#   GeocoderUnavailable: HTTPSConnectionPool(host='nominatim.openstreetmap.org', port=443): \n",
    "#   Max retries exceeded with url: /reverse?lat=52.40164&lon=4.95106&format=json&addressdetails=1 \n",
    "#   (Caused by SSLError(SSLCertVerificationError(1, '[SSL: CERTIFICATE_VERIFY_FAILED] \n",
    "#   certificate verify failed: certificate has expired (_ssl.c:1006)')))\n",
    "ctx = ssl.create_default_context(cafile=certifi.where())\n",
    "geopy.geocoders.options.default_ssl_context = ctx\n",
    "\n",
    "geolocator = Photon(user_agent='geoapiExercises')\n",
    "\n",
    "print(ok_listings.columns)\n",
    "\n",
    "#New dataframe with only 3 parameters\n",
    "geolocs_airbnb = ok_listings[['latitude', 'longitude']]\n",
    "\n",
    "'''\n",
    "#here we set up a geodata frame based on the airbnb listings and do so with lat and long as geo location\n",
    "gdf_listings = gpd.GeoDataFrame(ok_listings[[\"ï»¿id\", \"neighbourhood\", \"license\"]], geometry=gpd.points_from_xy(ok_listings.longitude, ok_listings.latitude), crs = \"WGS84\")\n",
    "print(gdf_airbnb.head())\n",
    "'''\n",
    "\n",
    "geolocs_airbnb['longitude']=geolocs_airbnb['longitude'].str.replace(',','')\n",
    "geolocs_airbnb.longitude = (geolocs_airbnb.longitude.str[:1] + geolocs_airbnb.longitude.str[1:]).astype(float)\n",
    "\n",
    "#print(geolocs_airbnb.longitude)\n",
    "\n",
    "geolocs_airbnb['latitude']=geolocs_airbnb['latitude'].str.replace(',','')\n",
    "geolocs_airbnb.latitude = (geolocs_airbnb.latitude.str[:2] + '.' + geolocs_airbnb.latitude.str[2:]).astype(float)\n",
    "\n",
    "#print(type(geolocs_airbnb.latitude[5]))\n",
    "\n",
    "#print(longitude)\n",
    "#print(geolocs_airbnb)\n",
    "#print(len(geolocs_airbnb))\n",
    "for i in range(len(geolocs_airbnb)):\n",
    "    latitude, longitude = geolocs_airbnb.iloc[i]['latitude'],geolocs_airbnb.iloc[i]['longitude']\n",
    "    print(f'{latitude}, {longitude}')\n",
    "    location = geolocator.reverse((latitude, longitude), timeout=None)\n",
    "    try:\n",
    "        street = location.raw['address']['road']\n",
    "        geolocs_airbnb.loc[i, 'street'] = street\n",
    "    except:\n",
    "        pass\n",
    "\n",
    "geolocs_airbnb.head()\n",
    "\n",
    "#adding street as a column in our dataframe\n",
    "geolocs_airbnb['street'] = street\n"
   ]
  },
  {
   "cell_type": "code",
   "execution_count": 105,
   "id": "46b06d1f-4f4f-4f55-9328-dde5503347da",
   "metadata": {},
   "outputs": [
    {
     "ename": "AttributeError",
     "evalue": "'DataFrame' object has no attribute 'street'",
     "output_type": "error",
     "traceback": [
      "\u001b[1;31m---------------------------------------------------------------------------\u001b[0m",
      "\u001b[1;31mAttributeError\u001b[0m                            Traceback (most recent call last)",
      "\u001b[1;32m~\\AppData\\Local\\Temp\\ipykernel_5424\\66970228.py\u001b[0m in \u001b[0;36m?\u001b[1;34m()\u001b[0m\n\u001b[0;32m      1\u001b[0m \u001b[1;31m#print(geolocs_airbnb.street)\u001b[0m\u001b[1;33m\u001b[0m\u001b[1;33m\u001b[0m\u001b[0m\n\u001b[1;32m----> 2\u001b[1;33m \u001b[0mprint\u001b[0m\u001b[1;33m(\u001b[0m\u001b[1;34m'Number of Airbnb listings per street:'\u001b[0m\u001b[1;33m,\u001b[0m \u001b[0mgeolocs_airbnb\u001b[0m\u001b[1;33m.\u001b[0m\u001b[0mstreet\u001b[0m\u001b[1;33m.\u001b[0m\u001b[0mvalue_counts\u001b[0m\u001b[1;33m(\u001b[0m\u001b[1;33m)\u001b[0m\u001b[1;33m)\u001b[0m\u001b[1;33m\u001b[0m\u001b[1;33m\u001b[0m\u001b[0m\n\u001b[0m",
      "\u001b[1;32mc:\\Users\\jjcor\\AppData\\Local\\Programs\\Python\\Python311\\Lib\\site-packages\\pandas\\core\\generic.py\u001b[0m in \u001b[0;36m?\u001b[1;34m(self, name)\u001b[0m\n\u001b[0;32m   6200\u001b[0m             \u001b[1;32mand\u001b[0m \u001b[0mname\u001b[0m \u001b[1;32mnot\u001b[0m \u001b[1;32min\u001b[0m \u001b[0mself\u001b[0m\u001b[1;33m.\u001b[0m\u001b[0m_accessors\u001b[0m\u001b[1;33m\u001b[0m\u001b[1;33m\u001b[0m\u001b[0m\n\u001b[0;32m   6201\u001b[0m             \u001b[1;32mand\u001b[0m \u001b[0mself\u001b[0m\u001b[1;33m.\u001b[0m\u001b[0m_info_axis\u001b[0m\u001b[1;33m.\u001b[0m\u001b[0m_can_hold_identifiers_and_holds_name\u001b[0m\u001b[1;33m(\u001b[0m\u001b[0mname\u001b[0m\u001b[1;33m)\u001b[0m\u001b[1;33m\u001b[0m\u001b[1;33m\u001b[0m\u001b[0m\n\u001b[0;32m   6202\u001b[0m         ):\n\u001b[0;32m   6203\u001b[0m             \u001b[1;32mreturn\u001b[0m \u001b[0mself\u001b[0m\u001b[1;33m[\u001b[0m\u001b[0mname\u001b[0m\u001b[1;33m]\u001b[0m\u001b[1;33m\u001b[0m\u001b[1;33m\u001b[0m\u001b[0m\n\u001b[1;32m-> 6204\u001b[1;33m         \u001b[1;32mreturn\u001b[0m \u001b[0mobject\u001b[0m\u001b[1;33m.\u001b[0m\u001b[0m__getattribute__\u001b[0m\u001b[1;33m(\u001b[0m\u001b[0mself\u001b[0m\u001b[1;33m,\u001b[0m \u001b[0mname\u001b[0m\u001b[1;33m)\u001b[0m\u001b[1;33m\u001b[0m\u001b[1;33m\u001b[0m\u001b[0m\n\u001b[0m",
      "\u001b[1;31mAttributeError\u001b[0m: 'DataFrame' object has no attribute 'street'"
     ]
    }
   ],
   "source": [
    "#print(geolocs_airbnb.street)\n",
    "print('Number of Airbnb listings per street:', geolocs_airbnb.street.value_counts())"
   ]
  },
  {
   "cell_type": "markdown",
   "id": "7c24bb9d",
   "metadata": {},
   "source": [
    "### 4. Try to cross reference the data from the AirBnB dataset with the BBGA. Can you figure out if all apartments of AirBnB are designated as housing? Which number of apartments are not rented out all the time but are also used as normal housing?\n",
    "\n",
    "The two datasets have no categories with immediate similar classification, therefore the cross reference of information is not possible.\n",
    "\n",
    "### 5. How many hotel rooms should be built if Amsterdam wants to accommodate the same number of tourists?"
   ]
  },
  {
   "cell_type": "code",
   "execution_count": null,
   "id": "23bde232",
   "metadata": {},
   "outputs": [
    {
     "ename": "NameError",
     "evalue": "name 'ok_listings' is not defined",
     "output_type": "error",
     "traceback": [
      "\u001b[1;31m---------------------------------------------------------------------------\u001b[0m",
      "\u001b[1;31mNameError\u001b[0m                                 Traceback (most recent call last)",
      "\u001b[1;32mc:\\Users\\jjcor\\Desktop\\MSc MADE\\Metropolitan Data 1\\231022_Git\\paralympics-report\\airbnb_listings_JJ.ipynb Cell 22\u001b[0m line \u001b[0;36m2\n\u001b[0;32m      <a href='vscode-notebook-cell:/c%3A/Users/jjcor/Desktop/MSc%20MADE/Metropolitan%20Data%201/231022_Git/paralympics-report/airbnb_listings_JJ.ipynb#X51sZmlsZQ%3D%3D?line=0'>1</a>\u001b[0m \u001b[39m#we sum individually the column 'accommodates' so we can retrieve the number of people who can stay \u001b[39;00m\n\u001b[1;32m----> <a href='vscode-notebook-cell:/c%3A/Users/jjcor/Desktop/MSc%20MADE/Metropolitan%20Data%201/231022_Git/paralympics-report/airbnb_listings_JJ.ipynb#X51sZmlsZQ%3D%3D?line=1'>2</a>\u001b[0m no_ppl \u001b[39m=\u001b[39m ok_listings\u001b[39m.\u001b[39maccommodates\u001b[39m.\u001b[39msum()\n\u001b[0;32m      <a href='vscode-notebook-cell:/c%3A/Users/jjcor/Desktop/MSc%20MADE/Metropolitan%20Data%201/231022_Git/paralympics-report/airbnb_listings_JJ.ipynb#X51sZmlsZQ%3D%3D?line=3'>4</a>\u001b[0m tourists \u001b[39m=\u001b[39m \u001b[39m30000\u001b[39m\n\u001b[0;32m      <a href='vscode-notebook-cell:/c%3A/Users/jjcor/Desktop/MSc%20MADE/Metropolitan%20Data%201/231022_Git/paralympics-report/airbnb_listings_JJ.ipynb#X51sZmlsZQ%3D%3D?line=5'>6</a>\u001b[0m tourists_hotel \u001b[39m=\u001b[39m tourists\u001b[39m-\u001b[39mno_ppl\n",
      "\u001b[1;31mNameError\u001b[0m: name 'ok_listings' is not defined"
     ]
    }
   ],
   "source": [
    "#we sum individually the column 'accommodates' so we can retrieve the number of people who can stay \n",
    "no_ppl = ok_listings.accommodates.sum()\n",
    "\n",
    "tourists = 30000\n",
    "\n",
    "tourists_hotel = tourists-no_ppl\n",
    "\n",
    "hotel_rooms_ams = 41840\n",
    "hotel_beds_ams = 90918\n",
    "\n",
    "avg_beds_per_room = hotel_beds_ams/hotel_rooms_ams\n",
    "\n",
    "#print(avg_beds_per_room)\n",
    "\n",
    "#Number of hotel rooms used by tourists who don't fit in airbnbs\n",
    "no_hotel_rooms_used = tourists_hotel/avg_beds_per_room\n",
    "\n",
    "print('Number of hotel rooms used by tourists who do not fit in airbnbs:', no_hotel_rooms_used)"
   ]
  },
  {
   "cell_type": "markdown",
   "id": "3d8551f0",
   "metadata": {},
   "source": [
    "### 6. How many different licenses are issued?"
   ]
  },
  {
   "cell_type": "code",
   "execution_count": null,
   "id": "d34c3797-8a78-4832-bc71-522ae923bc12",
   "metadata": {
    "tags": []
   },
   "outputs": [
    {
     "name": "stdout",
     "output_type": "stream",
     "text": [
      "license\n",
      "Exempt                      600\n",
      "0363 78AD 8875 790E 3C05     14\n",
      "ABCD 1234 AB12 89EF A0F9      9\n",
      "036341086EC3C2FF2493          7\n",
      "0363 A250 F710 53C5 1273      6\n",
      "                           ... \n",
      "0363 D239 E048 910F 216B      1\n",
      "0363 CB7E 060D 07E0 A4DE      1\n",
      "0363 45B2 6D92 AA8B 1326      1\n",
      "0363 F6A5 F87A D89D 8FC1      1\n",
      "0363 2F20 4F53 FB57 2D7F      1\n",
      "Name: count, Length: 6972, dtype: int64\n",
      "Number of unique Airbnb licenses in Amsterdam (not counting the exempt values): 6372\n"
     ]
    }
   ],
   "source": [
    "#verifying license column\n",
    "#print(ok_listings.columns[68])\n",
    "licenses = (ok_listings.license.nunique())\n",
    "license_values =(ok_listings.license.value_counts())\n",
    "print(license_values)\n",
    "exemptions = (ok_listings.license.value_counts()['Exempt'])\n",
    "\n",
    "ulicenses = licenses-exemptions\n",
    "print('Number of unique Airbnb licenses in Amsterdam (not counting the exempt values):',ulicenses)"
   ]
  },
  {
   "cell_type": "markdown",
   "id": "b6db55ac-90f7-4b32-b08c-16bf6bc9d46c",
   "metadata": {},
   "source": [
    "### Results analysis: \n",
    "We have more listings than licenses and several 'exempt' values. This is because the listings already have another type of license since they either work as hotels or hostels. https://www.airbnb.com/help/article/860"
   ]
  },
  {
   "cell_type": "markdown",
   "id": "ac15f20a",
   "metadata": {},
   "source": []
  }
 ],
 "metadata": {
  "kernelspec": {
   "display_name": "Python 3 (ipykernel)",
   "language": "python",
   "name": "python3"
  },
  "language_info": {
   "codemirror_mode": {
    "name": "ipython",
    "version": 3
   },
   "file_extension": ".py",
   "mimetype": "text/x-python",
   "name": "python",
   "nbconvert_exporter": "python",
   "pygments_lexer": "ipython3",
   "version": "3.11.5"
  }
 },
 "nbformat": 4,
 "nbformat_minor": 5
}
