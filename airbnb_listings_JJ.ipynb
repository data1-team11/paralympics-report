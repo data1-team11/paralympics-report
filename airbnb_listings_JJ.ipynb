{
 "cells": [
  {
   "cell_type": "code",
   "execution_count": null,
   "id": "c74ffbd4",
   "metadata": {},
   "outputs": [],
   "source": [
    "---\n",
    "title: \"Housing\"\n",
    "format: html\n",
    "bibliography: references.bib\n",
    "---"
   ]
  },
  {
   "cell_type": "code",
   "execution_count": 1,
   "id": "6f788cca-9e1f-4c86-b253-ab965157a2c2",
   "metadata": {},
   "outputs": [],
   "source": [
    "#| output: false\n",
    "#| echo: false\n",
    "\n",
    "%load_ext pycodestyle_magic\n",
    "%pycodestyle_on"
   ]
  },
  {
   "cell_type": "markdown",
   "id": "b1820824",
   "metadata": {},
   "source": [
    "Note: before running this notebook, please download [listings.csv.gz](http://data.insideairbnb.com/the-netherlands/north-holland/amsterdam/2023-09-03/data/listings.csv.gz) and place the extracted `listings.csv` in the `data` directory. "
   ]
  },
  {
   "cell_type": "markdown",
   "id": "2748cd95-939e-4200-adee-2cdac1c8cf2c",
   "metadata": {},
   "source": [
    "tax hotels = 7% of turnover + 3 euros per room\n",
    "tax airbnb = 10% = 3 euros\n",
    "number of visitors = 30000\n",
    "max profit = all visitors airbnb (depends on price)\n",
    "min profit = all visitors hotels (depends on price)"
   ]
  },
  {
   "cell_type": "markdown",
   "id": "b8069e82-bb85-49f4-b051-3fd1c9edbb0b",
   "metadata": {
    "tags": []
   },
   "source": [
    "from airbnb listings:\n",
    "discard listings with minimum stays of more than 7 nights #check\n",
    "sum the total ammount of people that fit the remaining airbnbs accomodate (19812)\n",
    "calculate average price of accomodation remaining listings\n",
    "for the remaining visitors (11188) they will stay in hotels\n",
    "average of 2.2 beds per room\n",
    "divide the number of rooms between the remaining tourists\n",
    "\n",
    " \n",
    "\n",
    "multiply number of available beds to average price\n",
    "\n",
    " \n",
    "\n",
    "sum airbnb + hotels taxes accordingly"
   ]
  },
  {
   "cell_type": "code",
   "execution_count": 15,
   "id": "c51c891d-6cea-4019-a1f6-766c43538df4",
   "metadata": {
    "tags": []
   },
   "outputs": [
    {
     "name": "stdout",
     "output_type": "stream",
     "text": [
      "Number of Airbnb listings with at most 7 days of minimal nights : 23407\n",
      "Number of people who needs to stay in hotel rooms :  6593\n",
      "Total tax revenue from Airbnb locations $ 1469360.9000000001\n",
      "Total tax revenue from hotel rooms $ 71543.25226687785\n",
      "Total tax revenue gathered for the government 1540904.152266878\n"
     ]
    }
   ],
   "source": [
    "import pandas as pd\n",
    "\n",
    "csv_data = list()\n",
    "listings = open(\"./data/listings.csv\", 'r', encoding='latin1')\n",
    "for line in listings:\n",
    "    data = line.split(',')\n",
    "    csv_data.append(data)\n",
    "\n",
    "listings.close()\n",
    "\n",
    "df = pd.read_csv(\"./data/listings.csv\",encoding='latin1')\n",
    "\n",
    "#ok_listings = pd.DataFrame(df.columns)\n",
    "#print(df.columns)\n",
    "#print(df.columns[34])\n",
    "#print(df.maximum_nights)\n",
    "\n",
    "#we discard listings with minimum stays of more than 7 nights\n",
    "ok_listings = df[(df['minimum_nights'] < 8)].copy()\n",
    "\n",
    "#we check that all numeric values in our DataFrame sum\n",
    "test = ok_listings.sum(axis=0,numeric_only=True)\n",
    "\n",
    "#we sum individually the column 'accommodates' so we can retrieve the number of people who can stay in the \n",
    "no_ppl = ok_listings.accommodates.sum()\n",
    "\n",
    "print('Number of Airbnb listings with at most 7 days of minimal nights :', no_ppl)\n",
    "#print(test) success\n",
    "\n",
    "tourists = 30000\n",
    "\n",
    "tourists_hotel = tourists-no_ppl\n",
    "\n",
    "print('Number of people who needs to stay in hotel rooms',': ', tourists_hotel)\n",
    "#print(ok_listings)\n",
    "\n",
    "#Average cost of overnight accommodation in Amsterdam in the Netherlands from January 2019 to June 2023\n",
    "##https://www.statista.com/statistics/614061/overnight-accommodation-costs-amsterdam-city/\n",
    "\n",
    "hotel_price_per_night = 294\n",
    "\n",
    "#https://www.cbs.nl/en-gb/figures/detail/84040ENG\n",
    "#Hotels; capacity, type of accommodation, beds, star rating\n",
    "\n",
    "hotel_rooms_ams = 41840\n",
    "hotel_beds_ams = 90918\n",
    "\n",
    "avg_beds_per_room = hotel_beds_ams/hotel_rooms_ams\n",
    "\n",
    "#print(avg_beds_per_room)\n",
    "\n",
    "#Number of hotel rooms used by tourists who don't fit in airbnbs\n",
    "no_hotel_rooms_used = tourists_hotel/avg_beds_per_room\n",
    "\n",
    "revenue_hotels = no_hotel_rooms_used*hotel_price_per_night\n",
    "\n",
    "tax_hotels = revenue_hotels * 0.07 + no_hotel_rooms_used * 3\n",
    "\n",
    "#getting rid of $ signs in column\n",
    "new_price = df['price'].str.slice(1,-1)\n",
    "\n",
    "#adding new_price as a column in our dataframe\n",
    "ok_listings['new_price'] = new_price\n",
    "\n",
    "#converting new column values to float so we can math it up =P\n",
    "ok_listings['new_price'] = ok_listings['new_price'].astype(float)\n",
    "\n",
    "#calculating total revenue of airbnb by summing all location price per night and then times 7 (number of days in a week)\n",
    "revenue_airbnb = ok_listings.new_price.sum()*7\n",
    "\n",
    "tax_airbnb = float(revenue_airbnb)*.1 + float(len(new_price)*3)\n",
    "\n",
    "print('Total tax revenue from Airbnb locations $', tax_airbnb)\n",
    "print('Total tax revenue from hotel rooms $',tax_hotels)\n",
    "\n",
    "total_revenue = tax_airbnb + tax_hotels\n",
    "\n",
    "print('Total tax revenue gathered for the government', total_revenue)\n"
   ]
  },
  {
   "cell_type": "markdown",
   "id": "24a18321-6fcd-4a80-9850-d547d1836ce6",
   "metadata": {},
   "source": [
    "Filter from dataframe the locations of airbnb\n",
    "Gather the different categories inside the column neighourhood\n",
    "Sum each category inside neighbourhood"
   ]
  },
  {
   "cell_type": "code",
   "execution_count": 3,
   "id": "05f018f9-10e5-4bce-9c08-a2450e3c9bde",
   "metadata": {},
   "outputs": [
    {
     "name": "stdout",
     "output_type": "stream",
     "text": [
      "Number of Airbnb listings per neighbourhood: neighbourhood_cleansed\n",
      "De Baarsjes - Oud-West                    1329\n",
      "Centrum-West                               973\n",
      "De Pijp - Rivierenbuurt                    898\n",
      "Centrum-Oost                               766\n",
      "Zuid                                       571\n",
      "Westerpark                                 561\n",
      "Oud-Oost                                   475\n",
      "Bos en Lommer                              399\n",
      "Oud-Noord                                  389\n",
      "Oostelijk Havengebied - Indische Buurt     304\n",
      "Watergraafsmeer                            249\n",
      "Noord-West                                 212\n",
      "IJburg - Zeeburgereiland                   173\n",
      "Slotervaart                                156\n",
      "Noord-Oost                                 135\n",
      "Geuzenveld - Slotermeer                    110\n",
      "Buitenveldert - Zuidas                      96\n",
      "De Aker - Nieuw Sloten                      67\n",
      "Bijlmer-Centrum                             47\n",
      "Gaasperdam - Driemond                       45\n",
      "Osdorp                                      43\n",
      "Bijlmer-Oost                                37\n",
      "Name: count, dtype: int64\n"
     ]
    },
    {
     "ename": "NameError",
     "evalue": "name 'neighbourhood' is not defined",
     "output_type": "error",
     "traceback": [
      "\u001b[1;31m---------------------------------------------------------------------------\u001b[0m",
      "\u001b[1;31mNameError\u001b[0m                                 Traceback (most recent call last)",
      "Cell \u001b[1;32mIn[3], line 4\u001b[0m\n\u001b[0;32m      2\u001b[0m \u001b[38;5;28;01mimport\u001b[39;00m \u001b[38;5;21;01mplotly\u001b[39;00m\u001b[38;5;21;01m.\u001b[39;00m\u001b[38;5;21;01mexpress\u001b[39;00m \u001b[38;5;28;01mas\u001b[39;00m \u001b[38;5;21;01mpx\u001b[39;00m\n\u001b[0;32m      3\u001b[0m \u001b[38;5;28mprint\u001b[39m(\u001b[38;5;124m'\u001b[39m\u001b[38;5;124mNumber of Airbnb listings per neighbourhood:\u001b[39m\u001b[38;5;124m'\u001b[39m, ok_listings\u001b[38;5;241m.\u001b[39mneighbourhood_cleansed\u001b[38;5;241m.\u001b[39mvalue_counts())\n\u001b[1;32m----> 4\u001b[0m figure \u001b[38;5;241m=\u001b[39m px\u001b[38;5;241m.\u001b[39mbar(ok_listings[neighbourhood]\u001b[38;5;241m.\u001b[39mvalue_counts, x\u001b[38;5;241m=\u001b[39m\u001b[38;5;124m'\u001b[39m\u001b[38;5;124mneighbourhood\u001b[39m\u001b[38;5;124m'\u001b[39m, y\u001b[38;5;241m=\u001b[39m\u001b[38;5;124m'\u001b[39m\u001b[38;5;124mnumber\u001b[39m\u001b[38;5;124m'\u001b[39m)\n\u001b[0;32m      5\u001b[0m figure\u001b[38;5;241m.\u001b[39mshow()\n",
      "\u001b[1;31mNameError\u001b[0m: name 'neighbourhood' is not defined"
     ]
    }
   ],
   "source": [
    "#It can't get mpre efficient than this\n",
    "import plotly.express as px\n",
    "print('Number of Airbnb listings per neighbourhood:', ok_listings.neighbourhood_cleansed.value_counts())\n",
    "figure = px.bar(ok_listings[neighbourhood].value_counts, x='neighbourhood', y='number')\n",
    "figure.show()"
   ]
  },
  {
   "cell_type": "code",
   "execution_count": 4,
   "id": "076f181d-bd10-44f7-9281-d1e9d022bcbd",
   "metadata": {},
   "outputs": [
    {
     "ename": "SyntaxError",
     "evalue": "invalid syntax (4229780995.py, line 6)",
     "output_type": "error",
     "traceback": [
      "\u001b[1;36m  Cell \u001b[1;32mIn[4], line 6\u001b[1;36m\u001b[0m\n\u001b[1;33m    from geopy.geocoders\u001b[0m\n\u001b[1;37m                        ^\u001b[0m\n\u001b[1;31mSyntaxError\u001b[0m\u001b[1;31m:\u001b[0m invalid syntax\n"
     ]
    }
   ],
   "source": [
    "#pip install geopy\n",
    "\n",
    "import certifi\n",
    "import ssl\n",
    "import geopy.geocoders\n",
    "from geopy.geocoders\n",
    "import Nominatim, Photon\n",
    "\n",
    "# Workaround to fix SSL certififcate expired error on some laptops\n",
    "# Solution taken from https://stackoverflow.com/a/50665487\n",
    "# Error message:\n",
    "#   GeocoderUnavailable: HTTPSConnectionPool(host='nominatim.openstreetmap.org', port=443): \n",
    "#   Max retries exceeded with url: /reverse?lat=52.40164&lon=4.95106&format=json&addressdetails=1 \n",
    "#   (Caused by SSLError(SSLCertVerificationError(1, '[SSL: CERTIFICATE_VERIFY_FAILED] \n",
    "#   certificate verify failed: certificate has expired (_ssl.c:1006)')))\n",
    "ctx = ssl.create_default_context(cafile=certifi.where())\n",
    "geopy.geocoders.options.default_ssl_context = ctx\n",
    "\n",
    "geolocator = Photon(user_agent='geoapiExercises')\n",
    "\n",
    "#print(ok_listings.columns)\n",
    "\n",
    "#New dataframe with only 3 parameters\n",
    "geolocs_airbnb = ok_listings[['latitude', 'longitude']]\n",
    "\n",
    "geolocs_airbnb['longitude']=geolocs_airbnb['longitude'].str.replace('.','')\n",
    "geolocs_airbnb.longitude = (geolocs_airbnb.longitude.str[:1] + '.' + geolocs_airbnb.longitude.str[1:])#.astype(float)\n",
    "\n",
    "# print(geolocs_airbnb.longitude)\n",
    "\n",
    "geolocs_airbnb['latitude']=geolocs_airbnb['latitude'].str.replace('.','')\n",
    "geolocs_airbnb.latitude = (geolocs_airbnb.latitude.str[:2] + '.' + geolocs_airbnb.latitude.str[2:])#.astype(float)\n",
    "\n",
    "#print(type(geolocs_airbnb.latitude[5]))\n",
    "\n",
    "#print(longitude)\n",
    "#print(geolocs_airbnb)\n",
    "print(len(geolocs_airbnb))\n",
    "for i in range(len(geolocs_airbnb)):\n",
    "    latitude, longitude = geolocs_airbnb.iloc[i]['latitude'],geolocs_airbnb.iloc[i]['longitude']\n",
    "    print(f'{latitude}, {longitude}')\n",
    "    location = geolocator.reverse((latitude, longitude), timeout=None)\n",
    "    try:\n",
    "        street = location.raw['address']['road']\n",
    "        geolocs_airbnb.loc[i, 'street'] = street\n",
    "    except:\n",
    "        pass\n",
    "\n",
    "geolocs_airbnb.head()\n",
    "\n",
    "#adding street as a column in our dataframe\n",
    "geolocs_airbnb['street'] = street\n"
   ]
  },
  {
   "cell_type": "code",
   "execution_count": 5,
   "id": "46b06d1f-4f4f-4f55-9328-dde5503347da",
   "metadata": {},
   "outputs": [
    {
     "ename": "NameError",
     "evalue": "name 'geolocs_airbnb' is not defined",
     "output_type": "error",
     "traceback": [
      "\u001b[1;31m---------------------------------------------------------------------------\u001b[0m",
      "\u001b[1;31mNameError\u001b[0m                                 Traceback (most recent call last)",
      "Cell \u001b[1;32mIn[5], line 3\u001b[0m\n\u001b[0;32m      1\u001b[0m \u001b[38;5;66;03m#print(geolocs_airbnb.street)\u001b[39;00m\n\u001b[0;32m      2\u001b[0m \u001b[38;5;66;03m#It can't get more efficient than this (again)\u001b[39;00m\n\u001b[1;32m----> 3\u001b[0m \u001b[38;5;28mprint\u001b[39m(\u001b[38;5;124m'\u001b[39m\u001b[38;5;124mNumber of Airbnb listings per street:\u001b[39m\u001b[38;5;124m'\u001b[39m, geolocs_airbnb\u001b[38;5;241m.\u001b[39mstreet\u001b[38;5;241m.\u001b[39mvalue_counts())\n",
      "\u001b[1;31mNameError\u001b[0m: name 'geolocs_airbnb' is not defined"
     ]
    }
   ],
   "source": [
    "#print(geolocs_airbnb.street)\n",
    "#It can't get more efficient than this (again)\n",
    "print('Number of Airbnb listings per street:', geolocs_airbnb.street.value_counts())"
   ]
  },
  {
   "cell_type": "code",
   "execution_count": 2,
   "id": "421bdf9c-22ca-4635-88db-0dd2c5ffb541",
   "metadata": {
    "tags": []
   },
   "outputs": [
    {
     "ename": "NameError",
     "evalue": "name 'ok_listings' is not defined",
     "output_type": "error",
     "traceback": [
      "\u001b[1;31m---------------------------------------------------------------------------\u001b[0m",
      "\u001b[1;31mNameError\u001b[0m                                 Traceback (most recent call last)",
      "Cell \u001b[1;32mIn[2], line 1\u001b[0m\n\u001b[1;32m----> 1\u001b[0m \u001b[38;5;28mprint\u001b[39m(ok_listings\u001b[38;5;241m.\u001b[39mcolumns[\u001b[38;5;241m68\u001b[39m])\n",
      "\u001b[1;31mNameError\u001b[0m: name 'ok_listings' is not defined"
     ]
    }
   ],
   "source": [
    "print(ok_listings.columns[68])"
   ]
  },
  {
   "cell_type": "code",
   "execution_count": 6,
   "id": "d34c3797-8a78-4832-bc71-522ae923bc12",
   "metadata": {
    "tags": []
   },
   "outputs": [
    {
     "name": "stdout",
     "output_type": "stream",
     "text": [
      "license\n",
      "Exempt                      600\n",
      "0363 78AD 8875 790E 3C05     14\n",
      "ABCD 1234 AB12 89EF A0F9      9\n",
      "036341086EC3C2FF2493          7\n",
      "0363 A250 F710 53C5 1273      6\n",
      "                           ... \n",
      "0363 D239 E048 910F 216B      1\n",
      "0363 CB7E 060D 07E0 A4DE      1\n",
      "0363 45B2 6D92 AA8B 1326      1\n",
      "0363 F6A5 F87A D89D 8FC1      1\n",
      "0363 2F20 4F53 FB57 2D7F      1\n",
      "Name: count, Length: 6972, dtype: int64\n",
      "Number of unique Airbnb licenses in Amsterdam (not counting the exempt values): 6372\n"
     ]
    }
   ],
   "source": [
    "licenses = (ok_listings.license.nunique())\n",
    "license_values =(ok_listings.license.value_counts())\n",
    "print(license_values)\n",
    "exemptions = (ok_listings.license.value_counts()['Exempt'])\n",
    "\n",
    "ulicenses = licenses-exemptions\n",
    "print('Number of unique Airbnb licenses in Amsterdam (not counting the exempt values):',ulicenses)"
   ]
  },
  {
   "cell_type": "markdown",
   "id": "b6db55ac-90f7-4b32-b08c-16bf6bc9d46c",
   "metadata": {},
   "source": [
    "#CONCLUSION: We have more listings than licenses and several 'exempt' values. This because these listings already have another sort of license because they either work as hotels or hostels. https://www.airbnb.com/help/article/860"
   ]
  }
 ],
 "metadata": {
  "kernelspec": {
   "display_name": "Python 3 (ipykernel)",
   "language": "python",
   "name": "python3"
  },
  "language_info": {
   "codemirror_mode": {
    "name": "ipython",
    "version": 3
   },
   "file_extension": ".py",
   "mimetype": "text/x-python",
   "name": "python",
   "nbconvert_exporter": "python",
   "pygments_lexer": "ipython3",
   "version": "3.11.5"
  }
 },
 "nbformat": 4,
 "nbformat_minor": 5
}
