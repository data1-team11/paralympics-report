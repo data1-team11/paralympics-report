{
 "cells": [
  {
   "cell_type": "code",
   "execution_count": null,
   "id": "c74ffbd4",
   "metadata": {},
   "outputs": [],
   "source": [
    "---\n",
    "title: \"Housing\"\n",
    "format: html\n",
    "bibliography: references.bib\n",
    "---"
   ]
  },
  {
   "cell_type": "code",
   "execution_count": 1,
   "id": "6f788cca-9e1f-4c86-b253-ab965157a2c2",
   "metadata": {},
   "outputs": [
    {
     "ename": "ModuleNotFoundError",
     "evalue": "No module named 'pycodestyle_magic'",
     "output_type": "error",
     "traceback": [
      "\u001b[1;31m---------------------------------------------------------------------------\u001b[0m",
      "\u001b[1;31mModuleNotFoundError\u001b[0m                       Traceback (most recent call last)",
      "\u001b[1;32mc:\\Users\\jjcor\\Desktop\\MSc MADE\\Metropolitan Data 1\\231022_Git\\paralympics-report\\airbnb_listings_JJ.ipynb Cell 1\u001b[0m line \u001b[0;36m4\n\u001b[0;32m      <a href='vscode-notebook-cell:/c%3A/Users/jjcor/Desktop/MSc%20MADE/Metropolitan%20Data%201/231022_Git/paralympics-report/airbnb_listings_JJ.ipynb#W0sZmlsZQ%3D%3D?line=0'>1</a>\u001b[0m \u001b[39m#| output: false\u001b[39;00m\n\u001b[0;32m      <a href='vscode-notebook-cell:/c%3A/Users/jjcor/Desktop/MSc%20MADE/Metropolitan%20Data%201/231022_Git/paralympics-report/airbnb_listings_JJ.ipynb#W0sZmlsZQ%3D%3D?line=1'>2</a>\u001b[0m \u001b[39m#| echo: false\u001b[39;00m\n\u001b[1;32m----> <a href='vscode-notebook-cell:/c%3A/Users/jjcor/Desktop/MSc%20MADE/Metropolitan%20Data%201/231022_Git/paralympics-report/airbnb_listings_JJ.ipynb#W0sZmlsZQ%3D%3D?line=3'>4</a>\u001b[0m get_ipython()\u001b[39m.\u001b[39;49mrun_line_magic(\u001b[39m'\u001b[39;49m\u001b[39mload_ext\u001b[39;49m\u001b[39m'\u001b[39;49m, \u001b[39m'\u001b[39;49m\u001b[39mpycodestyle_magic\u001b[39;49m\u001b[39m'\u001b[39;49m)\n\u001b[0;32m      <a href='vscode-notebook-cell:/c%3A/Users/jjcor/Desktop/MSc%20MADE/Metropolitan%20Data%201/231022_Git/paralympics-report/airbnb_listings_JJ.ipynb#W0sZmlsZQ%3D%3D?line=4'>5</a>\u001b[0m get_ipython()\u001b[39m.\u001b[39mrun_line_magic(\u001b[39m'\u001b[39m\u001b[39mpycodestyle_on\u001b[39m\u001b[39m'\u001b[39m, \u001b[39m'\u001b[39m\u001b[39m'\u001b[39m)\n",
      "File \u001b[1;32mc:\\Users\\jjcor\\AppData\\Local\\Programs\\Python\\Python311\\Lib\\site-packages\\IPython\\core\\interactiveshell.py:2432\u001b[0m, in \u001b[0;36mInteractiveShell.run_line_magic\u001b[1;34m(self, magic_name, line, _stack_depth)\u001b[0m\n\u001b[0;32m   2430\u001b[0m     kwargs[\u001b[39m'\u001b[39m\u001b[39mlocal_ns\u001b[39m\u001b[39m'\u001b[39m] \u001b[39m=\u001b[39m \u001b[39mself\u001b[39m\u001b[39m.\u001b[39mget_local_scope(stack_depth)\n\u001b[0;32m   2431\u001b[0m \u001b[39mwith\u001b[39;00m \u001b[39mself\u001b[39m\u001b[39m.\u001b[39mbuiltin_trap:\n\u001b[1;32m-> 2432\u001b[0m     result \u001b[39m=\u001b[39m fn(\u001b[39m*\u001b[39;49margs, \u001b[39m*\u001b[39;49m\u001b[39m*\u001b[39;49mkwargs)\n\u001b[0;32m   2434\u001b[0m \u001b[39m# The code below prevents the output from being displayed\u001b[39;00m\n\u001b[0;32m   2435\u001b[0m \u001b[39m# when using magics with decorator @output_can_be_silenced\u001b[39;00m\n\u001b[0;32m   2436\u001b[0m \u001b[39m# when the last Python token in the expression is a ';'.\u001b[39;00m\n\u001b[0;32m   2437\u001b[0m \u001b[39mif\u001b[39;00m \u001b[39mgetattr\u001b[39m(fn, magic\u001b[39m.\u001b[39mMAGIC_OUTPUT_CAN_BE_SILENCED, \u001b[39mFalse\u001b[39;00m):\n",
      "File \u001b[1;32mc:\\Users\\jjcor\\AppData\\Local\\Programs\\Python\\Python311\\Lib\\site-packages\\IPython\\core\\magics\\extension.py:33\u001b[0m, in \u001b[0;36mExtensionMagics.load_ext\u001b[1;34m(self, module_str)\u001b[0m\n\u001b[0;32m     31\u001b[0m \u001b[39mif\u001b[39;00m \u001b[39mnot\u001b[39;00m module_str:\n\u001b[0;32m     32\u001b[0m     \u001b[39mraise\u001b[39;00m UsageError(\u001b[39m'\u001b[39m\u001b[39mMissing module name.\u001b[39m\u001b[39m'\u001b[39m)\n\u001b[1;32m---> 33\u001b[0m res \u001b[39m=\u001b[39m \u001b[39mself\u001b[39;49m\u001b[39m.\u001b[39;49mshell\u001b[39m.\u001b[39;49mextension_manager\u001b[39m.\u001b[39;49mload_extension(module_str)\n\u001b[0;32m     35\u001b[0m \u001b[39mif\u001b[39;00m res \u001b[39m==\u001b[39m \u001b[39m'\u001b[39m\u001b[39malready loaded\u001b[39m\u001b[39m'\u001b[39m:\n\u001b[0;32m     36\u001b[0m     \u001b[39mprint\u001b[39m(\u001b[39m\"\u001b[39m\u001b[39mThe \u001b[39m\u001b[39m%s\u001b[39;00m\u001b[39m extension is already loaded. To reload it, use:\u001b[39m\u001b[39m\"\u001b[39m \u001b[39m%\u001b[39m module_str)\n",
      "File \u001b[1;32mc:\\Users\\jjcor\\AppData\\Local\\Programs\\Python\\Python311\\Lib\\site-packages\\IPython\\core\\extensions.py:76\u001b[0m, in \u001b[0;36mExtensionManager.load_extension\u001b[1;34m(self, module_str)\u001b[0m\n\u001b[0;32m     69\u001b[0m \u001b[39m\u001b[39m\u001b[39m\"\"\"Load an IPython extension by its module name.\u001b[39;00m\n\u001b[0;32m     70\u001b[0m \n\u001b[0;32m     71\u001b[0m \u001b[39mReturns the string \"already loaded\" if the extension is already loaded,\u001b[39;00m\n\u001b[0;32m     72\u001b[0m \u001b[39m\"no load function\" if the module doesn't have a load_ipython_extension\u001b[39;00m\n\u001b[0;32m     73\u001b[0m \u001b[39mfunction, or None if it succeeded.\u001b[39;00m\n\u001b[0;32m     74\u001b[0m \u001b[39m\"\"\"\u001b[39;00m\n\u001b[0;32m     75\u001b[0m \u001b[39mtry\u001b[39;00m:\n\u001b[1;32m---> 76\u001b[0m     \u001b[39mreturn\u001b[39;00m \u001b[39mself\u001b[39;49m\u001b[39m.\u001b[39;49m_load_extension(module_str)\n\u001b[0;32m     77\u001b[0m \u001b[39mexcept\u001b[39;00m \u001b[39mModuleNotFoundError\u001b[39;00m:\n\u001b[0;32m     78\u001b[0m     \u001b[39mif\u001b[39;00m module_str \u001b[39min\u001b[39;00m BUILTINS_EXTS:\n",
      "File \u001b[1;32mc:\\Users\\jjcor\\AppData\\Local\\Programs\\Python\\Python311\\Lib\\site-packages\\IPython\\core\\extensions.py:91\u001b[0m, in \u001b[0;36mExtensionManager._load_extension\u001b[1;34m(self, module_str)\u001b[0m\n\u001b[0;32m     89\u001b[0m \u001b[39mwith\u001b[39;00m \u001b[39mself\u001b[39m\u001b[39m.\u001b[39mshell\u001b[39m.\u001b[39mbuiltin_trap:\n\u001b[0;32m     90\u001b[0m     \u001b[39mif\u001b[39;00m module_str \u001b[39mnot\u001b[39;00m \u001b[39min\u001b[39;00m sys\u001b[39m.\u001b[39mmodules:\n\u001b[1;32m---> 91\u001b[0m         mod \u001b[39m=\u001b[39m import_module(module_str)\n\u001b[0;32m     92\u001b[0m     mod \u001b[39m=\u001b[39m sys\u001b[39m.\u001b[39mmodules[module_str]\n\u001b[0;32m     93\u001b[0m     \u001b[39mif\u001b[39;00m \u001b[39mself\u001b[39m\u001b[39m.\u001b[39m_call_load_ipython_extension(mod):\n",
      "File \u001b[1;32mc:\\Users\\jjcor\\AppData\\Local\\Programs\\Python\\Python311\\Lib\\importlib\\__init__.py:126\u001b[0m, in \u001b[0;36mimport_module\u001b[1;34m(name, package)\u001b[0m\n\u001b[0;32m    124\u001b[0m             \u001b[39mbreak\u001b[39;00m\n\u001b[0;32m    125\u001b[0m         level \u001b[39m+\u001b[39m\u001b[39m=\u001b[39m \u001b[39m1\u001b[39m\n\u001b[1;32m--> 126\u001b[0m \u001b[39mreturn\u001b[39;00m _bootstrap\u001b[39m.\u001b[39;49m_gcd_import(name[level:], package, level)\n",
      "File \u001b[1;32m<frozen importlib._bootstrap>:1204\u001b[0m, in \u001b[0;36m_gcd_import\u001b[1;34m(name, package, level)\u001b[0m\n",
      "File \u001b[1;32m<frozen importlib._bootstrap>:1176\u001b[0m, in \u001b[0;36m_find_and_load\u001b[1;34m(name, import_)\u001b[0m\n",
      "File \u001b[1;32m<frozen importlib._bootstrap>:1140\u001b[0m, in \u001b[0;36m_find_and_load_unlocked\u001b[1;34m(name, import_)\u001b[0m\n",
      "\u001b[1;31mModuleNotFoundError\u001b[0m: No module named 'pycodestyle_magic'"
     ]
    }
   ],
   "source": [
    "#| output: false\n",
    "#| echo: false\n",
    "\n",
    "%load_ext pycodestyle_magic\n",
    "%pycodestyle_on"
   ]
  },
  {
   "cell_type": "markdown",
   "id": "730063da",
   "metadata": {},
   "source": [
    "### Note:"
   ]
  },
  {
   "cell_type": "markdown",
   "id": "b1820824",
   "metadata": {},
   "source": [
    "Before running this notebook, please download [listings.csv.gz](http://data.insideairbnb.com/the-netherlands/north-holland/amsterdam/2023-09-03/data/listings.csv.gz) and place the extracted `listings.csv` in the `data` directory. "
   ]
  },
  {
   "cell_type": "markdown",
   "id": "7343fa50",
   "metadata": {},
   "source": [
    "# Assignment 3: Housing"
   ]
  },
  {
   "cell_type": "markdown",
   "id": "112b64ee",
   "metadata": {},
   "source": [
    "### Preliminary Data\n",
    "#### The following infomation was found prior to the start of the assignment in order to use it."
   ]
  },
  {
   "cell_type": "markdown",
   "id": "2748cd95-939e-4200-adee-2cdac1c8cf2c",
   "metadata": {},
   "source": [
    "tax hotels = 7% of turnover + 3 euros per room\n",
    "tax airbnb = 10% = 3 euros\n",
    "number of visitors = 30000"
   ]
  },
  {
   "cell_type": "markdown",
   "id": "d2e081b4",
   "metadata": {},
   "source": [
    "Library imports and DataFrame generation"
   ]
  },
  {
   "cell_type": "code",
   "execution_count": 15,
   "id": "c51c891d-6cea-4019-a1f6-766c43538df4",
   "metadata": {
    "tags": []
   },
   "outputs": [
    {
     "name": "stdout",
     "output_type": "stream",
     "text": [
      "Number of Airbnb listings with at most 7 days of minimal nights : 23407\n",
      "Number of people who needs to stay in hotel rooms :  6593\n",
      "Total tax revenue from Airbnb locations $ 1469360.9000000001\n",
      "Total tax revenue from hotel rooms $ 71543.25226687785\n",
      "Total tax revenue gathered for the government 1540904.152266878\n"
     ]
    }
   ],
   "source": [
    "import pandas as pd\n",
    "\n",
    "csv_data = list()\n",
    "listings = open(\"./data/listings.csv\", 'r', encoding='latin1')\n",
    "for line in listings:\n",
    "    data = line.split(',')\n",
    "    csv_data.append(data)\n",
    "\n",
    "listings.close()\n",
    "\n",
    "df = pd.read_csv(\"./data/listings.csv\",encoding='latin1')\n"
   ]
  },
  {
   "cell_type": "markdown",
   "id": "d1b78a71",
   "metadata": {},
   "source": [
    "#### 1. What Amsterdam will receive from tourist tax if the event lasts a week and you will have 30.000 visitors?"
   ]
  },
  {
   "cell_type": "markdown",
   "id": "4dccea34",
   "metadata": {},
   "source": [
    "#### Pseudocode\n",
    "\n",
    "1. Discard listings with minimum stays of more than 7 nights\n",
    "2. Sum the total ammount of people that fit the remaining airbnbs accomodate (#19812)\n",
    "3. Calculate average price of accomodation remaining listings\n",
    "4. for the remaining visitors (11188) they will stay in hotels --> average of 2.2 beds per room\n",
    "5. Divide the number of rooms between the remaining tourists\n",
    "6. Multiply number of available beds to average price\n",
    "7. Sum airbnb + hotels taxes accordingly"
   ]
  },
  {
   "cell_type": "code",
   "execution_count": null,
   "id": "e84b1c62",
   "metadata": {},
   "outputs": [],
   "source": [
    "#Gathering information shortcuts:\n",
    " \n",
    "#ok_listings = pd.DataFrame(df.columns)\n",
    "#print(df.columns)\n",
    "#print(df.columns[34])\n",
    "#print(df.maximum_nights)"
   ]
  },
  {
   "cell_type": "markdown",
   "id": "e95e5f8b",
   "metadata": {},
   "source": [
    "### Code:"
   ]
  },
  {
   "cell_type": "code",
   "execution_count": null,
   "id": "59b7e1c8",
   "metadata": {},
   "outputs": [],
   "source": [
    "#we discard listings with minimum stays of more than 7 nights\n",
    "ok_listings = df[(df['minimum_nights'] < 8)].copy()\n",
    "\n",
    "#we check that all numeric values in our DataFrame sum\n",
    "test = ok_listings.sum(axis=0,numeric_only=True)\n",
    "\n",
    "#we sum individually the column 'accommodates' so we can retrieve the number of people who can stay \n",
    "no_ppl = ok_listings.accommodates.sum()\n",
    "\n",
    "print('Number of Airbnb listings with at most 7 days of minimal nights :', no_ppl)\n",
    "#print(test) success\n",
    "\n",
    "tourists = 30000\n",
    "\n",
    "tourists_hotel = tourists-no_ppl\n",
    "\n",
    "print('Number of people who needs to stay in hotel rooms',': ', tourists_hotel)\n",
    "#print(ok_listings)\n",
    "\n",
    "#Average cost of overnight accommodation in Amsterdam in the Netherlands from January 2019 to June 2023\n",
    "##https://www.statista.com/statistics/614061/overnight-accommodation-costs-amsterdam-city/\n",
    "\n",
    "hotel_price_per_night = 294\n",
    "\n",
    "#https://www.cbs.nl/en-gb/figures/detail/84040ENG\n",
    "#Hotels; capacity, type of accommodation, beds, star rating\n",
    "\n",
    "hotel_rooms_ams = 41840\n",
    "hotel_beds_ams = 90918\n",
    "\n",
    "avg_beds_per_room = hotel_beds_ams/hotel_rooms_ams\n",
    "\n",
    "#print(avg_beds_per_room)\n",
    "\n",
    "#Number of hotel rooms used by tourists who don't fit in airbnbs\n",
    "no_hotel_rooms_used = tourists_hotel/avg_beds_per_room\n",
    "\n",
    "revenue_hotels = no_hotel_rooms_used*hotel_price_per_night\n",
    "\n",
    "tax_hotels = revenue_hotels * 0.07 + no_hotel_rooms_used * 3\n",
    "\n",
    "#getting rid of $ signs in column\n",
    "new_price = df['price'].str.slice(1,-1)\n",
    "\n",
    "#adding new_price as a column in our dataframe\n",
    "ok_listings['new_price'] = new_price\n",
    "\n",
    "#converting new column values to float so we can math it up =P\n",
    "ok_listings['new_price'] = ok_listings['new_price'].astype(float)\n",
    "\n",
    "#calculating total revenue of airbnb by summing all location price per night and then times 7 (number of days in a week)\n",
    "revenue_airbnb = ok_listings.new_price.sum()*7\n",
    "\n",
    "tax_airbnb = float(revenue_airbnb)*.1 + float(len(new_price)*3)\n",
    "\n",
    "print('Total tax revenue from Airbnb locations $', tax_airbnb)\n",
    "print('Total tax revenue from hotel rooms $',tax_hotels)\n",
    "\n",
    "total_revenue = tax_airbnb + tax_hotels\n",
    "\n",
    "print('Total tax revenue gathered for the government', total_revenue)"
   ]
  },
  {
   "cell_type": "markdown",
   "id": "40827f00",
   "metadata": {},
   "source": [
    "### 2. Plot the amount of AirBnB loca�ons per neighbourhood."
   ]
  },
  {
   "cell_type": "markdown",
   "id": "24a18321-6fcd-4a80-9850-d547d1836ce6",
   "metadata": {},
   "source": [
    "### Pseudocode\n",
    "1. Filter from dataframe the locations of airbnb\n",
    "2. Gather the different categories inside the column neighourhood\n",
    "3. Sum each category inside neighbourhood"
   ]
  },
  {
   "cell_type": "code",
   "execution_count": 3,
   "id": "05f018f9-10e5-4bce-9c08-a2450e3c9bde",
   "metadata": {},
   "outputs": [
    {
     "name": "stdout",
     "output_type": "stream",
     "text": [
      "Number of Airbnb listings per neighbourhood: neighbourhood_cleansed\n",
      "De Baarsjes - Oud-West                    1329\n",
      "Centrum-West                               973\n",
      "De Pijp - Rivierenbuurt                    898\n",
      "Centrum-Oost                               766\n",
      "Zuid                                       571\n",
      "Westerpark                                 561\n",
      "Oud-Oost                                   475\n",
      "Bos en Lommer                              399\n",
      "Oud-Noord                                  389\n",
      "Oostelijk Havengebied - Indische Buurt     304\n",
      "Watergraafsmeer                            249\n",
      "Noord-West                                 212\n",
      "IJburg - Zeeburgereiland                   173\n",
      "Slotervaart                                156\n",
      "Noord-Oost                                 135\n",
      "Geuzenveld - Slotermeer                    110\n",
      "Buitenveldert - Zuidas                      96\n",
      "De Aker - Nieuw Sloten                      67\n",
      "Bijlmer-Centrum                             47\n",
      "Gaasperdam - Driemond                       45\n",
      "Osdorp                                      43\n",
      "Bijlmer-Oost                                37\n",
      "Name: count, dtype: int64\n"
     ]
    },
    {
     "ename": "NameError",
     "evalue": "name 'neighbourhood' is not defined",
     "output_type": "error",
     "traceback": [
      "\u001b[1;31m---------------------------------------------------------------------------\u001b[0m",
      "\u001b[1;31mNameError\u001b[0m                                 Traceback (most recent call last)",
      "Cell \u001b[1;32mIn[3], line 4\u001b[0m\n\u001b[0;32m      2\u001b[0m \u001b[38;5;28;01mimport\u001b[39;00m \u001b[38;5;21;01mplotly\u001b[39;00m\u001b[38;5;21;01m.\u001b[39;00m\u001b[38;5;21;01mexpress\u001b[39;00m \u001b[38;5;28;01mas\u001b[39;00m \u001b[38;5;21;01mpx\u001b[39;00m\n\u001b[0;32m      3\u001b[0m \u001b[38;5;28mprint\u001b[39m(\u001b[38;5;124m'\u001b[39m\u001b[38;5;124mNumber of Airbnb listings per neighbourhood:\u001b[39m\u001b[38;5;124m'\u001b[39m, ok_listings\u001b[38;5;241m.\u001b[39mneighbourhood_cleansed\u001b[38;5;241m.\u001b[39mvalue_counts())\n\u001b[1;32m----> 4\u001b[0m figure \u001b[38;5;241m=\u001b[39m px\u001b[38;5;241m.\u001b[39mbar(ok_listings[neighbourhood]\u001b[38;5;241m.\u001b[39mvalue_counts, x\u001b[38;5;241m=\u001b[39m\u001b[38;5;124m'\u001b[39m\u001b[38;5;124mneighbourhood\u001b[39m\u001b[38;5;124m'\u001b[39m, y\u001b[38;5;241m=\u001b[39m\u001b[38;5;124m'\u001b[39m\u001b[38;5;124mnumber\u001b[39m\u001b[38;5;124m'\u001b[39m)\n\u001b[0;32m      5\u001b[0m figure\u001b[38;5;241m.\u001b[39mshow()\n",
      "\u001b[1;31mNameError\u001b[0m: name 'neighbourhood' is not defined"
     ]
    }
   ],
   "source": [
    "#It can't get mpre efficient than this\n",
    "import plotly.express as px\n",
    "print('Number of Airbnb listings per neighbourhood:', ok_listings.neighbourhood_cleansed.value_counts())\n",
    "figure = px.bar(ok_listings[neighbourhood].value_counts, x='neighbourhood', y='number')\n",
    "figure.show()"
   ]
  },
  {
   "cell_type": "markdown",
   "id": "aa75bcc8",
   "metadata": {},
   "source": [
    "### 3: Which street in Amsterdam has the most AirBnB apartments?"
   ]
  },
  {
   "cell_type": "markdown",
   "id": "d8b243d4",
   "metadata": {},
   "source": [
    "### Pseudocode\n",
    "1. Find the locations of airbnb through lat and long.\n",
    "2. Add the street category to the DataFrame.\n",
    "3. Gather the different categories inside the column Street.\n",
    "4. Sum each category per street filter."
   ]
  },
  {
   "cell_type": "code",
   "execution_count": 4,
   "id": "076f181d-bd10-44f7-9281-d1e9d022bcbd",
   "metadata": {},
   "outputs": [
    {
     "ename": "SyntaxError",
     "evalue": "invalid syntax (4229780995.py, line 6)",
     "output_type": "error",
     "traceback": [
      "\u001b[1;36m  Cell \u001b[1;32mIn[4], line 6\u001b[1;36m\u001b[0m\n\u001b[1;33m    from geopy.geocoders\u001b[0m\n\u001b[1;37m                        ^\u001b[0m\n\u001b[1;31mSyntaxError\u001b[0m\u001b[1;31m:\u001b[0m invalid syntax\n"
     ]
    }
   ],
   "source": [
    "#pip install geopy\n",
    "\n",
    "import certifi\n",
    "import ssl\n",
    "import geopy.geocoders\n",
    "from geopy.geocoders\n",
    "import Nominatim, Photon\n",
    "\n",
    "# Workaround to fix SSL certififcate expired error on some laptops\n",
    "# Solution taken from https://stackoverflow.com/a/50665487\n",
    "# Error message:\n",
    "#   GeocoderUnavailable: HTTPSConnectionPool(host='nominatim.openstreetmap.org', port=443): \n",
    "#   Max retries exceeded with url: /reverse?lat=52.40164&lon=4.95106&format=json&addressdetails=1 \n",
    "#   (Caused by SSLError(SSLCertVerificationError(1, '[SSL: CERTIFICATE_VERIFY_FAILED] \n",
    "#   certificate verify failed: certificate has expired (_ssl.c:1006)')))\n",
    "ctx = ssl.create_default_context(cafile=certifi.where())\n",
    "geopy.geocoders.options.default_ssl_context = ctx\n",
    "\n",
    "geolocator = Photon(user_agent='geoapiExercises')\n",
    "\n",
    "#print(ok_listings.columns)\n",
    "\n",
    "#New dataframe with only 3 parameters\n",
    "geolocs_airbnb = ok_listings[['latitude', 'longitude']]\n",
    "\n",
    "geolocs_airbnb['longitude']=geolocs_airbnb['longitude'].str.replace('.','')\n",
    "geolocs_airbnb.longitude = (geolocs_airbnb.longitude.str[:1] + '.' + geolocs_airbnb.longitude.str[1:])#.astype(float)\n",
    "\n",
    "# print(geolocs_airbnb.longitude)\n",
    "\n",
    "geolocs_airbnb['latitude']=geolocs_airbnb['latitude'].str.replace('.','')\n",
    "geolocs_airbnb.latitude = (geolocs_airbnb.latitude.str[:2] + '.' + geolocs_airbnb.latitude.str[2:])#.astype(float)\n",
    "\n",
    "#print(type(geolocs_airbnb.latitude[5]))\n",
    "\n",
    "#print(longitude)\n",
    "#print(geolocs_airbnb)\n",
    "print(len(geolocs_airbnb))\n",
    "for i in range(len(geolocs_airbnb)):\n",
    "    latitude, longitude = geolocs_airbnb.iloc[i]['latitude'],geolocs_airbnb.iloc[i]['longitude']\n",
    "    print(f'{latitude}, {longitude}')\n",
    "    location = geolocator.reverse((latitude, longitude), timeout=None)\n",
    "    try:\n",
    "        street = location.raw['address']['road']\n",
    "        geolocs_airbnb.loc[i, 'street'] = street\n",
    "    except:\n",
    "        pass\n",
    "\n",
    "geolocs_airbnb.head()\n",
    "\n",
    "#adding street as a column in our dataframe\n",
    "geolocs_airbnb['street'] = street\n"
   ]
  },
  {
   "cell_type": "code",
   "execution_count": 5,
   "id": "46b06d1f-4f4f-4f55-9328-dde5503347da",
   "metadata": {},
   "outputs": [
    {
     "ename": "NameError",
     "evalue": "name 'geolocs_airbnb' is not defined",
     "output_type": "error",
     "traceback": [
      "\u001b[1;31m---------------------------------------------------------------------------\u001b[0m",
      "\u001b[1;31mNameError\u001b[0m                                 Traceback (most recent call last)",
      "Cell \u001b[1;32mIn[5], line 3\u001b[0m\n\u001b[0;32m      1\u001b[0m \u001b[38;5;66;03m#print(geolocs_airbnb.street)\u001b[39;00m\n\u001b[0;32m      2\u001b[0m \u001b[38;5;66;03m#It can't get more efficient than this (again)\u001b[39;00m\n\u001b[1;32m----> 3\u001b[0m \u001b[38;5;28mprint\u001b[39m(\u001b[38;5;124m'\u001b[39m\u001b[38;5;124mNumber of Airbnb listings per street:\u001b[39m\u001b[38;5;124m'\u001b[39m, geolocs_airbnb\u001b[38;5;241m.\u001b[39mstreet\u001b[38;5;241m.\u001b[39mvalue_counts())\n",
      "\u001b[1;31mNameError\u001b[0m: name 'geolocs_airbnb' is not defined"
     ]
    }
   ],
   "source": [
    "#print(geolocs_airbnb.street)\n",
    "#It can't get more efficient than this (again)\n",
    "print('Number of Airbnb listings per street:', geolocs_airbnb.street.value_counts())"
   ]
  },
  {
   "cell_type": "markdown",
   "id": "7c24bb9d",
   "metadata": {},
   "source": [
    "### 4. Try to cross reference the data from the AirBnB dataset with the BBGA. Can you figure out if all apartments of AirBnB are designated as housing? Which number of apartments are not rented out all the time but are also used as normal housing?\n",
    "\n",
    "The two datasets have no categories with immediate similar classification, therefore the cross reference of information is not possible.\n",
    "\n",
    "### 5. How many hotel rooms should be built if Amsterdam wants to accommodate the same number of tourists?"
   ]
  },
  {
   "cell_type": "code",
   "execution_count": 2,
   "id": "23bde232",
   "metadata": {},
   "outputs": [
    {
     "ename": "NameError",
     "evalue": "name 'ok_listings' is not defined",
     "output_type": "error",
     "traceback": [
      "\u001b[1;31m---------------------------------------------------------------------------\u001b[0m",
      "\u001b[1;31mNameError\u001b[0m                                 Traceback (most recent call last)",
      "\u001b[1;32mc:\\Users\\jjcor\\Desktop\\MSc MADE\\Metropolitan Data 1\\231022_Git\\paralympics-report\\airbnb_listings_JJ.ipynb Cell 22\u001b[0m line \u001b[0;36m2\n\u001b[0;32m      <a href='vscode-notebook-cell:/c%3A/Users/jjcor/Desktop/MSc%20MADE/Metropolitan%20Data%201/231022_Git/paralympics-report/airbnb_listings_JJ.ipynb#X51sZmlsZQ%3D%3D?line=0'>1</a>\u001b[0m \u001b[39m#we sum individually the column 'accommodates' so we can retrieve the number of people who can stay \u001b[39;00m\n\u001b[1;32m----> <a href='vscode-notebook-cell:/c%3A/Users/jjcor/Desktop/MSc%20MADE/Metropolitan%20Data%201/231022_Git/paralympics-report/airbnb_listings_JJ.ipynb#X51sZmlsZQ%3D%3D?line=1'>2</a>\u001b[0m no_ppl \u001b[39m=\u001b[39m ok_listings\u001b[39m.\u001b[39maccommodates\u001b[39m.\u001b[39msum()\n\u001b[0;32m      <a href='vscode-notebook-cell:/c%3A/Users/jjcor/Desktop/MSc%20MADE/Metropolitan%20Data%201/231022_Git/paralympics-report/airbnb_listings_JJ.ipynb#X51sZmlsZQ%3D%3D?line=3'>4</a>\u001b[0m tourists \u001b[39m=\u001b[39m \u001b[39m30000\u001b[39m\n\u001b[0;32m      <a href='vscode-notebook-cell:/c%3A/Users/jjcor/Desktop/MSc%20MADE/Metropolitan%20Data%201/231022_Git/paralympics-report/airbnb_listings_JJ.ipynb#X51sZmlsZQ%3D%3D?line=5'>6</a>\u001b[0m tourists_hotel \u001b[39m=\u001b[39m tourists\u001b[39m-\u001b[39mno_ppl\n",
      "\u001b[1;31mNameError\u001b[0m: name 'ok_listings' is not defined"
     ]
    }
   ],
   "source": [
    "#we sum individually the column 'accommodates' so we can retrieve the number of people who can stay \n",
    "no_ppl = ok_listings.accommodates.sum()\n",
    "\n",
    "tourists = 30000\n",
    "\n",
    "tourists_hotel = tourists-no_ppl\n",
    "\n",
    "hotel_rooms_ams = 41840\n",
    "hotel_beds_ams = 90918\n",
    "\n",
    "avg_beds_per_room = hotel_beds_ams/hotel_rooms_ams\n",
    "\n",
    "#print(avg_beds_per_room)\n",
    "\n",
    "#Number of hotel rooms used by tourists who don't fit in airbnbs\n",
    "no_hotel_rooms_used = tourists_hotel/avg_beds_per_room\n",
    "\n",
    "print('Number of hotel rooms used by tourists who do not fit in airbnbs:', no_hotel_rooms_used)"
   ]
  },
  {
   "cell_type": "markdown",
   "id": "3d8551f0",
   "metadata": {},
   "source": [
    "### 6. How many different licenses are issued?"
   ]
  },
  {
   "cell_type": "code",
   "execution_count": 6,
   "id": "d34c3797-8a78-4832-bc71-522ae923bc12",
   "metadata": {
    "tags": []
   },
   "outputs": [
    {
     "name": "stdout",
     "output_type": "stream",
     "text": [
      "license\n",
      "Exempt                      600\n",
      "0363 78AD 8875 790E 3C05     14\n",
      "ABCD 1234 AB12 89EF A0F9      9\n",
      "036341086EC3C2FF2493          7\n",
      "0363 A250 F710 53C5 1273      6\n",
      "                           ... \n",
      "0363 D239 E048 910F 216B      1\n",
      "0363 CB7E 060D 07E0 A4DE      1\n",
      "0363 45B2 6D92 AA8B 1326      1\n",
      "0363 F6A5 F87A D89D 8FC1      1\n",
      "0363 2F20 4F53 FB57 2D7F      1\n",
      "Name: count, Length: 6972, dtype: int64\n",
      "Number of unique Airbnb licenses in Amsterdam (not counting the exempt values): 6372\n"
     ]
    }
   ],
   "source": [
    "#verifying license column\n",
    "#print(ok_listings.columns[68])\n",
    "licenses = (ok_listings.license.nunique())\n",
    "license_values =(ok_listings.license.value_counts())\n",
    "print(license_values)\n",
    "exemptions = (ok_listings.license.value_counts()['Exempt'])\n",
    "\n",
    "ulicenses = licenses-exemptions\n",
    "print('Number of unique Airbnb licenses in Amsterdam (not counting the exempt values):',ulicenses)"
   ]
  },
  {
   "cell_type": "markdown",
   "id": "b6db55ac-90f7-4b32-b08c-16bf6bc9d46c",
   "metadata": {},
   "source": [
    "### Results analysis: \n",
    "We have more listings than licenses and several 'exempt' values. This is because the listings already have another type of license since they either work as hotels or hostels. https://www.airbnb.com/help/article/860"
   ]
  },
  {
   "cell_type": "markdown",
   "id": "ac15f20a",
   "metadata": {},
   "source": []
  }
 ],
 "metadata": {
  "kernelspec": {
   "display_name": "Python 3 (ipykernel)",
   "language": "python",
   "name": "python3"
  },
  "language_info": {
   "codemirror_mode": {
    "name": "ipython",
    "version": 3
   },
   "file_extension": ".py",
   "mimetype": "text/x-python",
   "name": "python",
   "nbconvert_exporter": "python",
   "pygments_lexer": "ipython3",
   "version": "3.11.5"
  }
 },
 "nbformat": 4,
 "nbformat_minor": 5
}
