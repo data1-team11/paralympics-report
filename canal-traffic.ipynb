{
 "cells": [
  {
   "cell_type": "raw",
   "metadata": {},
   "source": [
    "---\n",
    "title: \"Canal Traffic\"\n",
    "format: html\n",
    "bibliography: references.bib\n",
    "---"
   ]
  },
  {
   "cell_type": "markdown",
   "metadata": {},
   "source": [
    "For the second category, continuity of boat traffic, we look towards hosting the event outside of ‘rush hours’ on the canals.\n",
    "\n",
    "As can be seen in the figure below the busiest hours on the water usually start around 15:00.\n",
    "\n",
    "For that reason the swimming event will be finished before 15:00.\n",
    "\n",
    "As people swim about 8 km/h, each round of 5 km would take approximately 40 minutes. [@thornton_speed_2019]\n",
    "\n",
    "With maximum 120 swimmers per group it would take 25 waves to accommodate all 3000 swimmers. [@british_triathlon_open_nodate]\n",
    "\n",
    "The first wave of the race starts at 7:00 am with a next wave going every 20 minutes, this way the last wave will be out of the water by 15:00.\n",
    "\n",
    "![image](https://github.com/data1-team11/paralympics-report/assets/146421346/bb17d756-be6b-41d0-8614-4533bb6f3572)\n"
   ]
  },
  {
   "cell_type": "markdown",
   "metadata": {},
   "source": []
  }
 ],
 "metadata": {
  "kernelspec": {
   "display_name": "Python 3",
   "language": "python",
   "name": "python3"
  },
  "language_info": {
   "name": "python",
   "version": "3.11.5"
  }
 },
 "nbformat": 4,
 "nbformat_minor": 2
}
