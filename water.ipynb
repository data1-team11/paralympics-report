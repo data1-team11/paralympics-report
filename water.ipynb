{
 "cells": [
  {
   "cell_type": "raw",
   "metadata": {},
   "source": [
    "---\n",
    "title: \"Water Quality\"\n",
    "format: html\n",
    "---"
   ]
  },
  {
   "cell_type": "markdown",
   "metadata": {},
   "source": [
    "## First assignment\n",
    "\n",
    "> This first assignment is focused on the pollution levels of the water in the canals and the different formats of data available.\n",
    "\n",
    "As a preliminary statement it is important to say that since the Amsterdam canals are not official bathing sites, water quality in them is not tested.\n",
    "\n",
    "Find below the different **parameters** that we came up with in regards to water pollution levels along with the **relevant available sources** (if existant) of information and their **formats**.\n"
   ]
  },
  {
   "cell_type": "markdown",
   "metadata": {},
   "source": [
    "| # | Parameter | Explanation | Source | Format|\n",
    "|:--|:----------|:------------|:-------|:------|\n",
    "|1. | Pollution levels in Herensgracht and Prinsengracht | Chemical composition of the water | [Study](https://www.rivm.nl/publicaties/microbiologische-kwaliteit-van-grachtenwater-in-amsterdam) | Journal |\n",
    "|2. | Pollution levels in swimming locations | Chemical levels in swimming locations in 2019 with interpreted data | [Dataset](https://onderzoek.amsterdam.nl/dataset/water-in-amsterdam) | Excel |\n",
    "|3. | Places with sensors available. | &nbsp;| &nbsp; | &nbsp; |\n",
    "|4. |Historical data for water quality. | &nbsp; | &nbsp; | &nbsp; |"
   ]
  },
  {
   "cell_type": "markdown",
   "metadata": {},
   "source": [
    "**Factors affecting the quality of water**\n",
    "\n",
    "1. Sewage overflow points https://data.overheid.nl/dataset/xnhveaeyheww2w#panel-resources \n",
    "2. Sewage pipes https://geodata.nationaalgeoregister.nl/rioned/gwsw/wfs/v1_0?request=GetFeature&service=WFS&version=1.1.0&outputFormat=application%2Fjson&typeName=gwsw:beheer_leiding\n",
    "3. Flows/currents\n",
    "4. Physical factors of the water. Temperature, visibility, depth.\n"
   ]
  }
 ],
 "metadata": {
  "kernelspec": {
   "display_name": "Python 3",
   "language": "python",
   "name": "python3"
  },
  "language_info": {
   "codemirror_mode": {
    "name": "ipython",
    "version": 3
   },
   "file_extension": ".py",
   "mimetype": "text/x-python",
   "name": "python",
   "nbconvert_exporter": "python",
   "pygments_lexer": "ipython3",
   "version": "3.11.5"
  }
 },
 "nbformat": 4,
 "nbformat_minor": 2
}
