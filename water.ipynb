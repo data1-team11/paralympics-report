{
 "cells": [
  {
   "cell_type": "raw",
   "metadata": {},
   "source": [
    "---\n",
    "title: \"(Swim) water quality of Amsterdam canals\"\n",
    "format: html\n",
    "bibliography: references.bib\n",
    "---"
   ]
  },
  {
   "cell_type": "code",
   "execution_count": null,
   "metadata": {},
   "outputs": [],
   "source": [
    "#| output: false\n",
    "#| echo: false\n",
    "\n",
    "%pip install -r requirements.txt"
   ]
  },
  {
   "cell_type": "code",
   "execution_count": null,
   "metadata": {
    "tags": []
   },
   "outputs": [],
   "source": [
    "#| output: false\n",
    "#| echo: false\n",
    "\n",
    "%load_ext pycodestyle_magic\n",
    "%pycodestyle_on"
   ]
  },
  {
   "cell_type": "markdown",
   "metadata": {},
   "source": [
    "To host an open water swim meet in the canals of Amsterdam, we must first ensure that the water quality is good enough for swimming.\n",
    "Unfortunately, only official bathing sites in the Amsterdam canals are monitored for water quality. [@waternet_swimming_nodate]\n",
    "Thus, there is limited data available.\n"
   ]
  },
  {
   "cell_type": "markdown",
   "metadata": {},
   "source": [
    "We do know that there are various factors that affect the quality of water, such as sewage overflows, water currents, temperature and more [@van_den_tillaart_swim_2017].\n",
    "If we had data sampled at appropriate locations and sufficient background knowledge, we would use a model to estimate water pollution levels and how they are affected by weather and canal traffic.\n",
    "For now, we will use the available data for some basic analysis."
   ]
  },
  {
   "cell_type": "markdown",
   "metadata": {},
   "source": [
    "## Datasets found"
   ]
  },
  {
   "cell_type": "markdown",
   "metadata": {},
   "source": [
    "Here is the list of **datasets** we have identified with regards to water pollution levels, along with the **relevant available sources** (if existant) of information and their **formats**.\n",
    "\n"
   ]
  },
  {
   "cell_type": "markdown",
   "metadata": {},
   "source": [
    "| # | Parameter | Explanation | Source | Format|\n",
    "|:--|:----------|:------------|:-------|:------|\n",
    "|1. | Pollution levels in Herensgracht and Prinsengracht | Chemical composition of the water | [Study](https://www.rivm.nl/publicaties/microbiologische-kwaliteit-van-grachtenwater-in-amsterdam) | Journal |\n",
    "|2. | Pollution levels in swimming locations | Chemical levels in swimming locations in 2019 with interpreted data | [Dataset](https://onderzoek.amsterdam.nl/dataset/water-in-amsterdam) | Excel |\n",
    "|3. | Places with sensors available. | &nbsp;| &nbsp; | &nbsp; |\n",
    "|4. |Historical data for water quality. | &nbsp; | &nbsp; | &nbsp; |\n",
    "|5. |Sewage overflows |  Used Python script to convert file to Geojson. | [Dataset](https://data.overheid.nl/dataset/xnhveaeyheww2w#panel-resources) | JSON |\n",
    "|6. |Canal traffic | Traffic densities of canals | [Report](https://www.cvs-congres.nl/cvspdfdocs_2013/cvs13_046.pdf) | Image |\n",
    ": {tbl-colwidths=\"[5,20,40,15,10]\"}\n"
   ]
  },
  {
   "cell_type": "markdown",
   "metadata": {},
   "source": [
    "### Sewage overflows"
   ]
  },
  {
   "cell_type": "markdown",
   "metadata": {},
   "source": [
    "Since Amsterdam uses a combined sewage system, sewage overflows are a major source of water pollution after heavy rain. [@van_den_tillaart_swim_2017]\n",
    "We can see if there areas without sewage overflow points in the canals."
   ]
  },
  {
   "cell_type": "markdown",
   "metadata": {},
   "source": [
    "The Waternet sewerage network data is available on [Overheid.nl](https://data.overheid.nl/dataset/xnhveaeyheww2w).\n",
    "Unfortunately, the download link for the WFS data returned a 404 error.\n",
    "Instead, we used the provided API to retrieve the sewage nodes, then saved it to [sewer_nodes.geojson](./data/sewer_nodes.geojson).\n",
    "We then filtered the data to get the sewage overflow nodes and saved it to [sewage_overflow_nodes.geojson](./data/sewage_overflow_nodes.geojson)."
   ]
  },
  {
   "cell_type": "code",
   "execution_count": null,
   "metadata": {},
   "outputs": [],
   "source": [
    "import geopandas as gpd\n",
    "import json\n",
    "import os.path\n",
    "from pyproj import Transformer\n",
    "import requests\n",
    "import time\n",
    "\n",
    "FILENAME_SEWER_NODES = \"data/sewer_nodes.geojson\"\n",
    "FILENAME_SEWAGE_OVERFLOW_NODES = \"data/sewage_overflow_nodes.geojson\"\n",
    "URL_SEWER_NODES = (\"https://api.data.amsterdam.nl/v1/leidingeninfrastructuur/\"\n",
    "                   \"waternet_rioolknopen/?page_size=1000\")\n",
    "SEWAGE_OVERFLOW_TYPES = [\n",
    "    \"Uitlaat gemengde overstort\",  # Mixed overflow\n",
    "    \"Uitlaat vuilwater nooduitlaat\",  # Black water emergency outlet\n",
    "    \"(Externe) overstortput\",  # (External) overflow\n",
    "    \"Overstort met signalering\",  # Overflow with signaling\n",
    "    \"Interne overstortput\",  # Internal overflow\n",
    "    \"Nooduitlaat met signalering\"  # Emergency overflow with signaling\n",
    "]\n",
    "\n",
    "\n",
    "def get_sewer_nodes(url, geojson_filename, is_test_run=False):\n",
    "    \"\"\"Return sewer nodes as geodataframe, read from the GeoJSON file.\n",
    "    If file does not exist, retrieve the data from the API and save results to\n",
    "    the GeoJSON file. If this is a test run and the API is called, only partial\n",
    "    results will be retrieved from the API.\n",
    "\n",
    "    Parameters:\n",
    "        url: API endpoint for sewage networks data\n",
    "        geojson_filename: file containing (or will contain) the saved data\n",
    "        is_test_run: if True, limit number of API requests made (for debugging)\n",
    "    \"\"\"\n",
    "\n",
    "    if os.path.exists(geojson_filename):\n",
    "        print(\"Sewer nodes data has already been parsed to GeoJSON in '{}'\"\n",
    "              .format(geojson_filename))\n",
    "        gdf = gpd.read_file(geojson_filename)\n",
    "    else:\n",
    "        print((\"Sewer nodes GeoJSON file does not exist. \"\n",
    "               \"Requesting data from API{}\").format(url))\n",
    "        geojson_data = retrieve_sewer_nodes_data_from_api(url, is_test_run)\n",
    "\n",
    "        # Save data for future use\n",
    "        with open(geojson_filename, \"a+\", encoding='utf-8') as outfile:\n",
    "            json.dump(geojson_data, outfile)\n",
    "        print(\"Sewer nodes data saved to file '{}'\".format(geojson_filename))\n",
    "\n",
    "        gdf = gpd.GeoDataFrame.from_features(geojson_data['features'])\n",
    "    return gdf\n",
    "\n",
    "\n",
    "def retrieve_sewer_nodes_data_from_api(url, is_test_run=False):\n",
    "    \"\"\"Return sewer nodes data as GeoJSON.\n",
    "    In test runs, limit the number of API requests made.\"\"\"\n",
    "\n",
    "    data_entries = request_sewer_nodes_data_from_api(url, is_test_run)\n",
    "    geojson_data = parse_sewer_node_results(data_entries)\n",
    "\n",
    "    return geojson_data\n",
    "\n",
    "\n",
    "def request_sewer_nodes_data_from_api(url, is_test_run=False):\n",
    "    \"\"\"Retrieve all sewer node results from API.\n",
    "    For test runs, stop after first 3 pages of results.\"\"\"\n",
    "\n",
    "    api_response = requests.get(url, headers={'User-Agent': 'data1'}).json()\n",
    "\n",
    "    sewer_node_entries = []\n",
    "    num_pages_requested = 0\n",
    "\n",
    "    while api_response is not None:\n",
    "        time.sleep(0.5)  # avoid spamming server\n",
    "        data = api_response[\"_embedded\"][\"waternet_rioolknopen\"]\n",
    "        sewer_node_entries += data\n",
    "\n",
    "        if \"next\" in api_response[\"_links\"]:  # has next page of results\n",
    "            api_response = requests.get(api_response[\"_links\"][\"next\"][\"href\"],\n",
    "                                        headers={'User-Agent': 'data1'}).json()\n",
    "        else:  # is last page of results\n",
    "            api_response = None\n",
    "\n",
    "        num_pages_requested += 1\n",
    "\n",
    "        if is_test_run and num_pages_requested >= 3:\n",
    "            break\n",
    "\n",
    "    return sewer_node_entries\n",
    "\n",
    "\n",
    "def parse_sewer_node_results(sewer_node_entries):\n",
    "    \"\"\"Parse sewer node results from Amsterdam sewer network API to GeoJSON\"\"\"\n",
    "\n",
    "    transformer = Transformer.from_crs(\"EPSG:7415\", \"EPSG:4326\")\n",
    "\n",
    "    geojson = {\n",
    "        \"type\": \"FeatureCollection\",\n",
    "        \"features\": []\n",
    "    }\n",
    "\n",
    "    for entry in sewer_node_entries:\n",
    "        x, y, z = entry[\"geometrie\"][\"coordinates\"]\n",
    "        lat, lon = transformer.transform(x, y)\n",
    "        feature = {\n",
    "            \"type\": \"Feature\",\n",
    "            \"geometry\": {\n",
    "                \"type\": \"Point\",\n",
    "                \"coordinates\": [lon, lat]\n",
    "            },\n",
    "            \"properties\": {\n",
    "                \"id\": entry[\"id\"],\n",
    "                \"typeKnoop\": entry[\"typeKnoop\"]\n",
    "            }\n",
    "        }\n",
    "        geojson[\"features\"].append(feature)\n",
    "\n",
    "    return geojson\n",
    "\n",
    "\n",
    "def get_sewage_overflow_nodes(url,\n",
    "                              sewer_nodes_filename,\n",
    "                              sewage_overflow_nodes_filename,\n",
    "                              is_test_run):\n",
    "    \"\"\"Return sewage overflow points as geodataframe read from the\n",
    "    GeoJSON file. If file does not exist, get and process the sewer nodes data,\n",
    "     then save results to the GeoJSON file.\n",
    "\n",
    "    Parameters:\n",
    "        url: API endpoint for sewage networks data\n",
    "        sewer_nodes_filename: name of GeoJSON file containing (or will contain)\n",
    "                              the saved sewer nodes data\n",
    "        sewage_overflow_nodes_filename: name of GeoJSON file containing\n",
    "                                        (or that will contain) the saved\n",
    "                                        sewage overflow nodes data\n",
    "        is_test_run: if True, limit number of API requests made (for debugging)\n",
    "    \"\"\"\n",
    "\n",
    "    if os.path.exists(sewage_overflow_nodes_filename):\n",
    "        print(\"Sewage overflow nodes data already exists in file '{}'\"\n",
    "              .format(sewage_overflow_nodes_filename))\n",
    "        gdf_overflows = gpd.read_file(sewage_overflow_nodes_filename)\n",
    "    else:\n",
    "        gdf_sewer_nodes = get_sewer_nodes(url, sewer_nodes_filename,\n",
    "                                          is_test_run)\n",
    "        gdf_overflows = gdf_sewer_nodes[gdf_sewer_nodes[\"typeKnoop\"]\n",
    "                                        .isin(SEWAGE_OVERFLOW_TYPES)]\n",
    "        gdf_overflows.to_file(sewage_overflow_nodes_filename)\n",
    "        print(\"Sewage overflow nodes data saved to file '{}'\"\n",
    "              .format(sewage_overflow_nodes_filename))\n",
    "    return gdf_overflows\n",
    "\n",
    "\n",
    "pgdf_overflows = get_sewage_overflow_nodes(\n",
    "    URL_SEWER_NODES, FILENAME_SEWER_NODES, FILENAME_SEWAGE_OVERFLOW_NODES,\n",
    "    is_test_run=False\n",
    ")"
   ]
  },
  {
   "cell_type": "markdown",
   "metadata": {},
   "source": [
    "We then plot the sewage overflow points on a map.\n"
   ]
  },
  {
   "cell_type": "code",
   "execution_count": null,
   "metadata": {},
   "outputs": [],
   "source": [
    "import folium\n",
    "\n",
    "map_of_sewage_overflow_nodes = pgdf_overflows.explore(\n",
    "    legend=True,\n",
    "    name=\"Sewage Overflow Points\",\n",
    ")\n",
    "\n",
    "folium.TileLayer(\"CartoDB positron\", show=False).add_to(\n",
    "    map_of_sewage_overflow_nodes\n",
    ")\n",
    "\n",
    "map_of_sewage_overflow_nodes"
   ]
  },
  {
   "cell_type": "markdown",
   "metadata": {},
   "source": [
    "Observe that there are fewer sewage overflow points in the northeast area of Amsterdam's canals, near Marineterrein.\n",
    "Assuming water pollution dissipates quickly with distance from the sewage overflow point, we can choose a route that avoids most of the sewer nodes to ensure better water quality for the swim."
   ]
  },
  {
   "cell_type": "markdown",
   "metadata": {},
   "source": [
    "### Canal Traffic"
   ]
  },
  {
   "cell_type": "markdown",
   "metadata": {},
   "source": [
    "\n",
    "Boat traffic is another source of water pollution.\n",
    "Due to the lack of exhaust gas treatment systems in boat engines, as found in all modern car engines, a modern 5 horsepower 4-stroke outboard engine can be as polluting as 39 passenger cars driving at 95 km/h. [@propel_why_2022]\n",
    "As of 2020, there are about 12 550 boats in the canals of Amsterdam, approximately 550 of which are commercial boats, the remaining 12000 are recreational boats. \n",
    "Of the commercial fleet about 75% is emission free, while for recreational boats this percentage is only 5%. [@sterling_amsterdams_2020]\n",
    "\n",
    "While we do not know the detailed relationship between boat traffic and water quality, we do know that water toxicity as a result of fossil fuelled boats can stay present up to 14 days after the use of boats [@JUTTNER19951976].\n",
    "Thus, one possibility is to limit the number of fossil fuelled boats in the two weeks prior to the event."
   ]
  },
  {
   "cell_type": "markdown",
   "metadata": {},
   "source": [
    "## Choosing a route"
   ]
  },
  {
   "cell_type": "markdown",
   "metadata": {},
   "source": [
    "Since the Amsterdam City Swim is held annually in the canals, this suggests that an open water swim is feasible.\n",
    "However, we will need to find a suitable 5km route.\n",
    "We have been told to ensure that the event does not impact commercial water transport, and has a small impact on the canal boat routes.\n"
   ]
  },
  {
   "cell_type": "markdown",
   "metadata": {},
   "source": [
    "### Canal traffic\n",
    "\n",
    "To minimise impact on boat routes, we look for a route that avoids areas of high canal traffic.\n",
    "This would also result in a route with cleaner water."
   ]
  },
  {
   "cell_type": "markdown",
   "metadata": {},
   "source": [
    "Waternet commissioned TNO to produce a model to predict traffic densities in the canal. [@snelder_op_2013] The prediction results from the model are as follows (image only, as we do not have access to the raw data):\n",
    "\n",
    "![image](images/Ams%20Canal%20Speeds-Layout1-06.jpg)"
   ]
  },
  {
   "cell_type": "markdown",
   "metadata": {},
   "source": [
    "### Amsterdam City Swim\n",
    "\n",
    "We take reference from the Amsterdam City Swim, which is held every summer in the canals of Amsterdam.\n",
    "We have the routes for 2019 and 2023, both of which are the same, other than the direction.\n",
    "\n",
    "![Amsterdam City Swim 2019 route](images/Ams%20Canal%20Speeds-Layout1-09.jpg)\n",
    "\n",
    "![Amsterdam City Swim 2023 route](images/Ams%20Canal%20Speeds-Layout1-11.jpg)\n",
    "\n",
    "![Amsterdam City Swim 2019 & 2023 routes](images/Ams%20Canal%20Speeds-Layout1-12.jpg)\n"
   ]
  },
  {
   "cell_type": "markdown",
   "metadata": {},
   "source": [
    "### Identifying potential routes\n",
    "\n",
    "Based on the City Swims, Amsterdam Oost seems to be a suitable area for open water swimming events.\n",
    "Visual comparison also shows that Amsterdam Oost has relatively fewer sewage overflow points and less canal traffic.\n",
    "\n",
    "![Amsterdam Oost](images/Ams%20Canal%20Speeds-Layout1-13.jpg)\n",
    "\n"
   ]
  },
  {
   "cell_type": "markdown",
   "metadata": {},
   "source": [
    "Thus, we have identified 3 potential 5km routes in this area, indicated in the images below.\n",
    "Our recommendation is the third route, as it traverses the fewest number of sewage overflow points."
   ]
  },
  {
   "cell_type": "markdown",
   "metadata": {},
   "source": [
    "![Route 1](images/Ams%20Canal%20Speeds-Layout1-14.jpg)\n",
    "\n",
    "![Route 2](images/Ams%20Canal%20Speeds-Layout1-15.jpg)\n",
    "\n",
    "![Route 3](images/Ams%20Canal%20Speeds-Layout1-16.jpg)\n"
   ]
  },
  {
   "cell_type": "markdown",
   "metadata": {},
   "source": [
    "## Recommendations\n",
    "\n",
    "We propose the following route, which traverses the fewest number of sewage overflow nodes and avoids areas with high traffic.\n",
    "\n",
    "![Route 3](images/Ams%20Canal%20Speeds-Layout1-16.jpg)\n",
    "\n",
    "However, since Waternet recommends people to avoid swimming in the waters for 3 days after heavy rainfall [@waternet_swimming_nodate], we would recommend finding an alternative backup route in case there is heavy rainfall prior to the event.\n",
    "It would also be better for water quality should fossil fuelled boats be banned from the area for two weeks before the event, though this may not be economically feasible."
   ]
  },
  {
   "cell_type": "markdown",
   "metadata": {},
   "source": [
    "## Auto-generated routes\n",
    "\n",
    "After selecting a route manually, we also prepared a script to automatically identify potential routes for the swim.\n",
    "This appendix describes the process, as well as a comparison between the routes found manually and automatically.\n"
   ]
  },
  {
   "cell_type": "markdown",
   "metadata": {},
   "source": [
    "### Finding potential routes"
   ]
  },
  {
   "cell_type": "markdown",
   "metadata": {},
   "source": [
    "Here is the list of **datasets** we have identified, along with the **relevant available sources** and their **formats**."
   ]
  },
  {
   "cell_type": "markdown",
   "metadata": {},
   "source": [
    "| # | Parameter | Explanation | Source | Format|\n",
    "|:--|:----------|:------------|:-------|:------|\n",
    "|1. |Sewage overflows |  Used Python script to convert file to Geojson. | [Dataset](https://data.overheid.nl/dataset/xnhveaeyheww2w#panel-resources) | JSON |\n",
    "|6. |Embarkation and disembarkation points | Proxy for canal traffic | [Dataset](https://maps.amsterdam.nl/open_geodata/?k=418) | GeoJSON |\n",
    ": {tbl-colwidths=\"[5,20,40,15,10]\"}\n"
   ]
  },
  {
   "cell_type": "markdown",
   "metadata": {},
   "source": [
    "Steps:\n",
    "\n",
    "1. Create the network of potential canals in Amsterdam, excluding canals with high shipping traffic.\n",
    "1. For each waterway (excluding canals with high shipping traffic), count the number of embarkation/disembarkation points and sewage overflow points that lie nearby.\n",
    "1. Find all possible 5 km routes starting from the Marineterreine swimming area, keeping track of the number of embarkation/disembarkation points and sewage overflow points for each route.\n",
    "1. Sort the 5 km routes by the number of embarkation/disembarkation points, then by the number of sewage overflow points.\n",
    "1. Plot the top 10 routes on a map for comparison."
   ]
  },
  {
   "cell_type": "markdown",
   "metadata": {},
   "source": [
    "#### Create network of traversable canals for the open swim meet"
   ]
  },
  {
   "cell_type": "code",
   "execution_count": null,
   "metadata": {},
   "outputs": [],
   "source": [
    "import osmnx as ox\n",
    "\n",
    "# Import canals of Amsterdam, excluding waterways with high shipping traffic\n",
    "ams_canals = ox.graph_from_place(\n",
    "    'Amsterdam, Netherlands',\n",
    "    custom_filter=('[\"waterway\"~\"canal|river|ditch\"]'\n",
    "                   '[\"name\"!~\"IJ|Noordzeekanaal|Amsterdam-Rijnkanaal\"]'))\n",
    "\n",
    "ox.graph_to_gdfs(ams_canals, nodes=False).explore()"
   ]
  },
  {
   "cell_type": "markdown",
   "metadata": {},
   "source": [
    "#### Count number of points of interest that lie near each waterway"
   ]
  },
  {
   "cell_type": "code",
   "execution_count": null,
   "metadata": {},
   "outputs": [],
   "source": [
    "def count_points_close_to_lines(lines, points, buffer_dist, counts_label):\n",
    "    \"\"\"Count the number of points that lie within buffer area of each line\"\"\"\n",
    "    # Based on code from https://stackoverflow.com/a/54128782\n",
    "\n",
    "    lines_with_counts = lines.copy()\n",
    "    spatial_index = points.sindex\n",
    "    results_list = []\n",
    "\n",
    "    for index, line in lines.iterrows():\n",
    "        buffer = line['geometry'].buffer(buffer_dist)\n",
    "        # Find approximate matches with r-tree,\n",
    "        possible_matches_index = list(\n",
    "            spatial_index.intersection(buffer.bounds))\n",
    "        possible_matches = points.iloc[possible_matches_index]\n",
    "        # then use the results to find precise matches\n",
    "        precise_matches = possible_matches[possible_matches.intersects(buffer)]\n",
    "        results_list.append(len(precise_matches))\n",
    "\n",
    "    lines_with_counts[counts_label] = results_list\n",
    "\n",
    "    return lines_with_counts"
   ]
  },
  {
   "cell_type": "code",
   "execution_count": null,
   "metadata": {},
   "outputs": [],
   "source": [
    "gdf_overflows = gpd.read_file(\"./data/sewage_overflow_nodes.geojson\")\n",
    "gdf_embarks = gpd.read_file(\"./data/disembarking_points.json\")\n",
    "\n",
    "# Project geometries so distances are in meters\n",
    "proj_ams_canals = ox.project_graph(ams_canals)\n",
    "pgdf_ams_canals = ox.graph_to_gdfs(proj_ams_canals, nodes=False)\n",
    "pgdf_overflows = ox.projection.project_gdf(gdf_overflows,\n",
    "                                           to_crs=proj_ams_canals.graph['crs'])\n",
    "pgdf_embarks = ox.projection.project_gdf(gdf_embarks,\n",
    "                                         to_crs=proj_ams_canals.graph['crs'])\n",
    "\n",
    "gdf_ams_canals_w_counts = count_points_close_to_lines(pgdf_ams_canals,\n",
    "                                                      pgdf_overflows,\n",
    "                                                      65,\n",
    "                                                      'num_overflows')\n",
    "\n",
    "gdf_ams_canals_w_counts = count_points_close_to_lines(gdf_ams_canals_w_counts,\n",
    "                                                      pgdf_embarks,\n",
    "                                                      65,\n",
    "                                                      'num_embarks')"
   ]
  },
  {
   "cell_type": "code",
   "execution_count": null,
   "metadata": {},
   "outputs": [],
   "source": [
    "#| code-fold: True\n",
    "#| code-summary: View no. of overflow points for each canal\n",
    "\n",
    "# We use this map to visually check if the buffer distance is reasonable.\n",
    "\n",
    "map_ams_canals_overflows = gdf_ams_canals_w_counts.explore(\n",
    "    column='num_overflows',\n",
    "    cmap='viridis_r',\n",
    "    tiles=\"CartoDB positron\")\n",
    "pgdf_overflows.explore(m=map_ams_canals_overflows, style_kwds={\"opacity\": 0.5})"
   ]
  },
  {
   "cell_type": "code",
   "execution_count": null,
   "metadata": {},
   "outputs": [],
   "source": [
    "#| code-fold: True\n",
    "#| code-summary: View no. of embarkation points for each canal\n",
    "\n",
    "map_ams_canals_embarks = gdf_ams_canals_w_counts.explore(\n",
    "    column='num_embarks', cmap='viridis_r', tiles=\"CartoDB positron\")\n",
    "pgdf_embarks.explore(m=map_ams_canals_embarks, style_kwds={\"opacity\": 0.5})"
   ]
  },
  {
   "cell_type": "markdown",
   "metadata": {},
   "source": [
    "#### Find 5km routes and score each route\n",
    "\n",
    "For simplicity, we find the shortest path that is at least 5 km long instead of finding paths that are exactly 5 km long.\n",
    "To get the exact length, we will need to create a new node at the required location and split edges accordingly, which is more complicated.\n",
    "\n",
    "Note that this means the scores computed for each route may not be accurate.\n",
    "For example, routes which are much longer than 5km due to the last edge being very long might have many overflow points from the excess part of the route."
   ]
  },
  {
   "cell_type": "markdown",
   "metadata": {},
   "source": [
    "While finding the routes, we also compute the scores for each route.\n",
    "Any column name in the geodataframe `gdf_with_scores` (that contains numeric values) can be used for scoring.\n",
    "The score of a route is the sum of its values for all edges in the route."
   ]
  },
  {
   "cell_type": "code",
   "execution_count": null,
   "metadata": {},
   "outputs": [],
   "source": [
    "def find_routes_of_length_w_scores(start_node, graph, length,\n",
    "                                   score_names, gdf_with_scores):\n",
    "    \"\"\"Finds all (shortest possible) routes that are at least the\n",
    "    specified length.\n",
    "\n",
    "    Parameters:\n",
    "        start_node: start node of routes\n",
    "        graph: nx graph for finding paths\n",
    "        length: min length of route\n",
    "        score_names: list of column names in gdf_with_scores.\n",
    "                     The values for edges in the route will be summed\n",
    "                     to obtain a score for the route.\n",
    "        gdf_with_scores: dataframe containing scores for each edge\n",
    "\n",
    "    Returns:\n",
    "        (routes, scores): list of routes, where a route is a list of\n",
    "                          traversed edges, and\n",
    "                          list of scores, containing one score for\n",
    "                          each score name\n",
    "    \"\"\"\n",
    "\n",
    "    invalid_score_names = list(filter(lambda x:\n",
    "                                      x not in gdf_with_scores.columns,\n",
    "                                      score_names))\n",
    "\n",
    "    if len(invalid_score_names) > 0:\n",
    "        raise Exception(\"Score name(s) missing from gdf_with_scores: {}\"\n",
    "                        .format(\", \".join(invalid_score_names)))\n",
    "\n",
    "    def find_routes_containing_path(curr_node, curr_path,\n",
    "                                    curr_length, curr_weights, graph):\n",
    "        if curr_length > length:  # found valid route\n",
    "            return [curr_path], [curr_weights]\n",
    "\n",
    "        traversed_nodes = [edge[0] for edge in curr_path] + [curr_node]\n",
    "        prev_node = curr_path[-1][0] if len(curr_path) > 0 else None\n",
    "        incident_edges = graph.edges(curr_node, keys=True)\n",
    "        routes_containing_curr_path = []\n",
    "        route_scores = []\n",
    "\n",
    "        for edge in incident_edges:\n",
    "            if edge[1] in traversed_nodes:  # avoid loops\n",
    "                continue\n",
    "\n",
    "            new_path = curr_path + [edge]\n",
    "            edge_length = graph.edges[edge][\"length\"]\n",
    "            edge_data = gdf_with_scores.loc[edge]\n",
    "            new_weights = [curr_weights[i] + edge_data[score_name]\n",
    "                           for i, score_name in enumerate(score_names)]\n",
    "            routes_with_new_node, scores = find_routes_containing_path(\n",
    "                edge[1],\n",
    "                new_path,\n",
    "                curr_length + edge_length,\n",
    "                new_weights, graph)\n",
    "            routes_containing_curr_path.extend(routes_with_new_node)\n",
    "            route_scores.extend(scores)\n",
    "\n",
    "        return routes_containing_curr_path, route_scores\n",
    "\n",
    "    return find_routes_containing_path(start_node, [], 0,\n",
    "                                       [0 for x in score_names], graph)"
   ]
  },
  {
   "cell_type": "markdown",
   "metadata": {},
   "source": [
    "We find all routes of length at least 5 km, and score using the number of sewage overflow nodes and number of embarkation/disembarkation points along the route."
   ]
  },
  {
   "cell_type": "code",
   "execution_count": null,
   "metadata": {},
   "outputs": [],
   "source": [
    "# Use Marineterrein pool as start point\n",
    "lat, lon = 52.37343358243731, 4.916215248650945\n",
    "start_node = ox.distance.nearest_nodes(ams_canals, lon, lat, return_dist=False)\n",
    "\n",
    "routes, scores = find_routes_of_length_w_scores(start_node, ams_canals, 5000,\n",
    "                                                ['num_overflows',\n",
    "                                                 'num_embarks'],\n",
    "                                                gdf_ams_canals_w_counts)\n",
    "print(\"Found {} routes.\".format(len(routes)))"
   ]
  },
  {
   "cell_type": "markdown",
   "metadata": {},
   "source": [
    "Next, we rank the routes by number of embarkation/disembarkation points, then by number of sewage overflow nodes.\n",
    "We prioritise impact on canal traffic over sewage overflows, as sewage overflows are a risk only in heavy downpour."
   ]
  },
  {
   "cell_type": "code",
   "execution_count": null,
   "metadata": {},
   "outputs": [],
   "source": [
    "import pandas as pd\n",
    "\n",
    "df_scored_routes = pd.DataFrame({\n",
    "    'id': range(len(routes)),\n",
    "    'edge_list': routes,\n",
    "    'num_embarks': [score[1] for score in scores],\n",
    "    'num_overflows': [score[0] for score in scores],\n",
    "})\n",
    "\n",
    "ranked_routes = df_scored_routes.sort_values(['num_embarks', 'num_overflows'])\n",
    "top_route_ids = ranked_routes['id'].tolist()[0:10]\n",
    "\n",
    "ranked_routes[0:10]"
   ]
  },
  {
   "cell_type": "markdown",
   "metadata": {},
   "source": [
    "Then, we plot the routes on the map."
   ]
  },
  {
   "cell_type": "code",
   "execution_count": null,
   "metadata": {},
   "outputs": [],
   "source": [
    "#| code-fold: True\n",
    "#| code-summary: Plot top 10 routes on map\n",
    "\n",
    "# workaround, otherwise calling folium.plugins directly gives an error\n",
    "import folium.plugins as plugins\n",
    "\n",
    "\n",
    "def edge_list_to_gdf(graph, edge_list):\n",
    "    node_list = [x for (x, y, k) in edge_list]\n",
    "    node_list.append(edge_list[-1][1])\n",
    "    return ox.utils_graph.graph_to_gdfs(\n",
    "        graph.subgraph(node_list), nodes=False).loc[edge_list]\n",
    "\n",
    "\n",
    "gdf_routes = [edge_list_to_gdf(ams_canals, routes[id]) for id in top_route_ids]\n",
    "\n",
    "complete_map = folium.Map(tiles=\"cartodbpositron\",\n",
    "                          location=(lat, lon),\n",
    "                          zoom_start=14)\n",
    "\n",
    "for i in range(min(10, len(gdf_routes))):\n",
    "    folium.GeoJson(\n",
    "        gdf_routes[i].to_json(),\n",
    "        name=\"Route {}\".format(i + 1),\n",
    "        style_function=lambda feature: {\n",
    "            \"weight\": 3,\n",
    "            \"opacity\": 0.3,\n",
    "            \"color\": \"#1AC938\",\n",
    "        },\n",
    "        show=(i < 1)\n",
    "        ).add_to(complete_map)\n",
    "\n",
    "# Plot points as circles, see https://stackoverflow.com/a/65836395\n",
    "folium.GeoJson(gdf_embarks.to_json(),\n",
    "               marker=folium.CircleMarker(radius=3,  # in meters\n",
    "                                          weight=0,  # outline\n",
    "                                          fill_color=\"#023EFF\",\n",
    "                                          fill_opacity=0.7),\n",
    "               name=\"Embarkation points\").add_to(complete_map)\n",
    "folium.GeoJson(gdf_overflows.to_json(),\n",
    "               marker=folium.CircleMarker(radius=3,\n",
    "                                          weight=0,\n",
    "                                          fill_color=\"#FF7C00\",\n",
    "                                          fill_opacity=0.7),\n",
    "               name=\"Sewage overflow points\").add_to(complete_map)\n",
    "\n",
    "folium.LayerControl().add_to(complete_map)\n",
    "\n",
    "complete_map"
   ]
  },
  {
   "cell_type": "markdown",
   "metadata": {},
   "source": [
    "#### Analysis"
   ]
  },
  {
   "cell_type": "markdown",
   "metadata": {},
   "source": [
    "##### Generated routes go north; manually selected routes go south\n",
    "\n",
    "It is interesting to note that all the top ten routes went northwards, as opposed to our three routes which went southwards.\n",
    "\n",
    "| ![Auto routes](images/routes-comparison.png) | ![Route 1](images/Ams%20Canal%20Speeds-Layout1-14.jpg) |\n",
    "|-|-|\n",
    "|![Route 2](images/Ams%20Canal%20Speeds-Layout1-15.jpg) | ![Route 3](images/Ams%20Canal%20Speeds-Layout1-16.jpg)\n",
    "\n",
    "While we did use embarkation/disembarkation points instead of canal traffic data, the northern route has a traffic density of 0%, so the northern route seems to be a better choice in terms of having fewer sewage overflow points and also smaller impact on canal traffic.\n",
    "\n",
    "\n",
    "However, the available datasets consider only a limited number of factors.\n",
    "While we did not explicitly state this, the reason we avoided the northern route was because it goes through an area of Marineterrein which is contaminated by oil, heavy metals, tar-like substances and PAHs [@vijsel_het_2012].\n",
    "This has a critical impact on the water quality, yet is not captured by the datasets.\n",
    "\n",
    "Furthermore, while selecting our routes, we took reference from the Amsterdam City Swim route, since the organizers would have considered other factors that we might have missed out on."
   ]
  },
  {
   "cell_type": "markdown",
   "metadata": {},
   "source": [
    "#### Unexpected results highlight implicit assumptions and expectations\n",
    "\n",
    "Code considers only what is stated; humans use context and background knowledge.\n",
    "The automatically generated routes did not match our manually generated routes even though we seemed to be considering the same factors, because we considered other factors in our selection that we may not even be explicitly aware of.\n",
    "\n",
    "For example, the code originally allowed for loops in the routes (allow nodes to be visited twice), so that we could obtain routes similar to our third proposed route.\n",
    "However, this resulted in counter-intuitive routes that seem less pleasant and harder to manage, such as the below route.\n",
    "\n",
    "![Route 3](images/unintuitive-routes.png)\n",
    "\n",
    "As such, we disallowed loops instead.\n",
    "This also reduced time required since the search space is smaller.\n",
    "However, we may miss out some feasible routes."
   ]
  },
  {
   "cell_type": "markdown",
   "metadata": {},
   "source": [
    "#### Constraints imposed by the dataset\n",
    "\n",
    "Besides the limitations mentioned in previous sections, the structure of the network also constrains the possible routes.\n",
    "For example, the lake in Sloterplas is represented using a single line, which rules out the possibly of swimming around the circumference of the lake.\n",
    "\n",
    "![Sloterplas waterway](images/sloterplas.png)"
   ]
  },
  {
   "cell_type": "markdown",
   "metadata": {},
   "source": [
    "### Conclusion\n",
    "\n",
    "Using a program to find routes allowed us to search more comprehensively in less time.\n",
    "However, the program is constrained by the assumptions built into the code, as well as the provided datasets.\n",
    "We often consider multiple factors in our decisions, without necessarily being aware of those factors.\n",
    "Automating the process made our assumptions and considerations much more explicit.\n",
    "\n",
    "Given more time and resources, we would use these identified gaps as a guide to look for more data.\n",
    "Through repeated iterations, we can hopefully find a solution that humans may miss out (since we are less thorough), but that considers the broad set of factors that we use.\n",
    "\n",
    "Nonetheless, data can be hard to collect and datasets hard to find, and not all intuitions can be easily made explicit.\n",
    "Perhaps this is where machine learning combined with human judgement can take us further.\n"
   ]
  },
  {
   "cell_type": "markdown",
   "metadata": {},
   "source": [
    "## References\n",
    "\n",
    "::: {#refs}\n",
    ":::"
   ]
  },
  {
   "cell_type": "markdown",
   "metadata": {},
   "source": []
  }
 ],
 "metadata": {
  "kernelspec": {
   "display_name": "Python 3",
   "language": "python",
   "name": "python3"
  },
  "language_info": {
   "codemirror_mode": {
    "name": "ipython",
    "version": 3
   },
   "file_extension": ".py",
   "mimetype": "text/x-python",
   "name": "python",
   "nbconvert_exporter": "python",
   "pygments_lexer": "ipython3",
   "version": "3.11.5"
  }
 },
 "nbformat": 4,
 "nbformat_minor": 2
}
