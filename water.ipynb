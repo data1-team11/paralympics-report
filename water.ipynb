{
 "cells": [
  {
   "cell_type": "raw",
   "metadata": {},
   "source": [
    "---\n",
    "title: \"(Swim) water quality of Amsterdam canals\"\n",
    "format: html\n",
    "bibliography: references.bib\n",
    "---"
   ]
  },
  {
   "cell_type": "markdown",
   "metadata": {},
   "source": [
    "To host an open water swim meet in the canals of Amsterdam, we must first ensure that the water quality is good enough for swimming. \n",
    "Unfortunately, only official bathing sites in the Amsterdam canals are monitored for water quality.\n",
    "Thus, there is limited data available.\n"
   ]
  },
  {
   "cell_type": "markdown",
   "metadata": {},
   "source": [
    "Here is the list of **datasets** we have identified with regards to water pollution levels, along with the **relevant available sources** (if existant) of information and their **formats**.\n",
    "\n",
    "| # | Parameter | Explanation | Source | Format|\n",
    "|:--|:----------|:------------|:-------|:------|\n",
    "|1. | Pollution levels in Herensgracht and Prinsengracht | Chemical composition of the water | [Study](https://www.rivm.nl/publicaties/microbiologische-kwaliteit-van-grachtenwater-in-amsterdam) | Journal |\n",
    "|2. | Pollution levels in swimming locations | Chemical levels in swimming locations in 2019 with interpreted data | [Dataset](https://onderzoek.amsterdam.nl/dataset/water-in-amsterdam) | Excel |\n",
    "|3. | Places with sensors available. | &nbsp;| &nbsp; | &nbsp; |\n",
    "|4. |Historical data for water quality. | &nbsp; | &nbsp; | &nbsp; |\n"
   ]
  },
  {
   "cell_type": "markdown",
   "metadata": {},
   "source": [
    "We know that there are various factors that affect the quality of water, such as sewage overflows, water currents, temperature and more.\n",
    "If we had data sampled at appropriate locations and sufficient background knowledge, we would use a model to estimate water pollution levels and how they are affected by weather and canal traffic.\n",
    "For now, we will do some simple analysis of the available data."
   ]
  },
  {
   "cell_type": "code",
   "execution_count": 2,
   "metadata": {},
   "outputs": [],
   "source": [
    "# some basic analysis, e.g. min/max"
   ]
  },
  {
   "cell_type": "markdown",
   "metadata": {},
   "source": [
    "We do know that sewage overflows are a major source of water pollution after heavy rain. [@leemans_wu_2017]\n",
    "Waternet recommends people to avoid swimming in the waters for 3 days after heavy rainfall. [@waternet_swimming_nodate]"
   ]
  },
  {
   "cell_type": "markdown",
   "metadata": {},
   "source": [
    "\n",
    "Boat traffic is another source of water pollution.\n",
    "Due to the lack of exhaust gas treatment systems in boat engines, as found in all modern car engines, a modern 5 horsepower 4-stroke outboard engine can be as polluting as 39 passenger cars driving at 95 km/h. [@propel_why_2022]\n",
    "As of 2020, there are about 12 550 boats in the canals of Amsterdam, approximately 550 of which are commercial boats, the remaining 12000 are recreational boats. \n",
    "Of the commercial fleet about 75% is emission free, while for recreational boats this percentage is only 5%. [@sterling_amsterdams_2020] \n",
    "This leaves us with ???? boats that are fossil fuel driven boats."
   ]
  },
  {
   "cell_type": "code",
   "execution_count": 3,
   "metadata": {},
   "outputs": [],
   "source": [
    "# code to compute total number of fossil fuel driven boats"
   ]
  },
  {
   "cell_type": "markdown",
   "metadata": {},
   "source": [
    "Furthermore, water toxicity as a result of fossil fuelled boats can stay present up to 14 days after the use of boats [@JUTTNER19951976].\n",
    "\n"
   ]
  },
  {
   "cell_type": "markdown",
   "metadata": {},
   "source": [
    "## Recommendations\n",
    "\n",
    "As such, we would recommend finding an alternative backup route in case of heavy rainfall prior to the event.\n",
    "It would also be better for water quality should fossil fuelled boats be banned from the area for two weeks before the event, though this may not be economically feasible."
   ]
  },
  {
   "cell_type": "markdown",
   "metadata": {},
   "source": []
  }
 ],
 "metadata": {
  "kernelspec": {
   "display_name": "Python 3",
   "language": "python",
   "name": "python3"
  },
  "language_info": {
   "codemirror_mode": {
    "name": "ipython",
    "version": 3
   },
   "file_extension": ".py",
   "mimetype": "text/x-python",
   "name": "python",
   "nbconvert_exporter": "python",
   "pygments_lexer": "ipython3",
   "version": "3.11.5"
  }
 },
 "nbformat": 4,
 "nbformat_minor": 2
}
