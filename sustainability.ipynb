{
 "cells": [
  {
   "cell_type": "raw",
   "metadata": {},
   "source": [
    "---\n",
    "title: \"Sustainability (Energy)\"\n",
    "format: html\n",
    "bibliography: references.bib\n",
    "---"
   ]
  },
  {
   "cell_type": "markdown",
   "metadata": {},
   "source": [
    "The Municipality wants to advertise this event as a Neutral Energy Event©™® (NEE).\n",
    "This section of the report investigates the energy requirements and sustainability of the swim meet."
   ]
  },
  {
   "cell_type": "markdown",
   "metadata": {},
   "source": [
    "## Energy requirements for support boats"
   ]
  },
  {
   "cell_type": "markdown",
   "metadata": {},
   "source": [
    "The safety of all swimmers must be ensured during the whole duration of the race. During the event safety measures consist of:\n",
    "\n",
    "-\tLifeguards in canoes;\n",
    "\n",
    "    As advised by the Open Water Swimming Safety Guide for Multi-Sport Events from the British Triathlon organisation boats should be in the water to be able to rescue swimmers in distress. \n",
    "A ratio of a minimum of one boat per twenty swimmers is advised in waters where shorelines are easily reachable. \n",
    "A swimmer should also always be within 50 meters range of a lifeguard. [@british_triathlon_open_nodate] \n",
    "Since most of the chosen route goes through canals it is deemed unsafe to have boats sailing so close alongside the swimmers. \n",
    "For that reason, lifeguards will be present every 50 meters in canoes instead of on boats.\n",
    " \n",
    "    This also contributes to the sustainability of the event. As mentioned previously, diesel engine boats are highly polluting and the resultant water toxicity can remain in the water for up to 14 days after the use of boats [@JUTTNER19951976], so no fossil fuel boats should be used as support boats.\n",
    "-   Safety platforms in the water;\n",
    "\n",
    "    To make sure distressed swimmers can easily leave the water platforms are placed every 100m alongside the swimming route where quay walls make exiting the water difficult."
   ]
  },
  {
   "cell_type": "code",
   "execution_count": 5,
   "metadata": {},
   "outputs": [
    {
     "name": "stdout",
     "output_type": "stream",
     "text": [
      "No. of lifeguard canoes required = max(6.0, 100.0) = 100.0\n"
     ]
    }
   ],
   "source": [
    "MAX_DISTANCE_BETWEEN_LIFEGUARDS = 50\n",
    "NUM_SWIMMERS_PER_SUPPORT_BOAT = 20\n",
    "# Retrieve variables stored in other notebooks\n",
    "%store -r NUM_SWIMMERS_PER_WAVE\n",
    "%store -r LENGTH_OF_ROUTE\n",
    "\n",
    "num_boats_required = NUM_SWIMMERS_PER_WAVE / NUM_SWIMMERS_PER_SUPPORT_BOAT\n",
    "num_lifeguards_required = LENGTH_OF_ROUTE / MAX_DISTANCE_BETWEEN_LIFEGUARDS\n",
    "num_lifeguard_canoes_required = max(num_boats_required, num_lifeguards_required)\n",
    "\n",
    "print(\"No. of lifeguard canoes required = max({}, {}) = {}\".format(num_boats_required, num_lifeguards_required, num_lifeguard_canoes_required))"
   ]
  },
  {
   "cell_type": "markdown",
   "metadata": {},
   "source": []
  },
  {
   "cell_type": "markdown",
   "metadata": {},
   "source": []
  },
  {
   "cell_type": "markdown",
   "metadata": {},
   "source": []
  },
  {
   "cell_type": "markdown",
   "metadata": {},
   "source": []
  }
 ],
 "metadata": {
  "kernelspec": {
   "display_name": "Python 3",
   "language": "python",
   "name": "python3"
  },
  "language_info": {
   "codemirror_mode": {
    "name": "ipython",
    "version": 3
   },
   "file_extension": ".py",
   "mimetype": "text/x-python",
   "name": "python",
   "nbconvert_exporter": "python",
   "pygments_lexer": "ipython3",
   "version": "3.11.5"
  }
 },
 "nbformat": 4,
 "nbformat_minor": 2
}
