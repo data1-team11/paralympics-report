{
 "cells": [
  {
   "cell_type": "raw",
   "metadata": {},
   "source": [
    "---\n",
    "title: \"Sustainability (Energy)\"\n",
    "format: html\n",
    "bibliography: references.bib\n",
    "---"
   ]
  },
  {
   "cell_type": "markdown",
   "metadata": {},
   "source": [
    "The Municipality wants to advertise this event as a Neutral Energy Event©™® (NEE).\n",
    "This section of the report investigates the energy requirements and sustainability of the swim meet."
   ]
  },
  {
   "cell_type": "markdown",
   "metadata": {},
   "source": [
    "Here we list some **key information** in regards to how we tackled the problem of planning such event. The following chart presents the key elements to know, their **sources** and their **formats**.\n",
    "\n",
    "| # | Parameter | Summary | Source | Format|\n",
    "|:--|:----------|:------------|:-------|:------|\n",
    "|1. | Quantity of diesel/fossil fuel boats vs electric | -550 canal boats (commercial), 75% emissions free (2020) these boats are used a lot, each boat up to 14 hours per day; 12,000 recreational boats, 5% emissions free (2020)  | [Article](https://www.reuters.com/article/us-climate-change-netherlands-idUSKBN20Q1W7 ) | Article |\n",
    "|2. | Estimation of electric boats by May 2024 | Originally from 1 Jan 2025, only electric boats will be allowed in Amsterdam’s canals, except the throughway. The deadline has been extended for pleasure boats due to complaints about insufficient charging infrastructure, which have been delayed due to pandemic. Currently 400-500 yachts have switched to electric, but there are only 24 16A shore power outlets. | [Gemeente](https://www.amsterdam.nl/en/traffic-transport/boating/emission-free-zone/) [Article](https://www.yachtingart.com/2023/06/2025-total-ban-on-thermal-boats-in-amsterdam.html) | Article |\n",
    "|3. | Weather forecasts | For correlation of usage of vessels| [Platform](https://www.tudelft.nl/en/ewi/over-de-faculteit/afdelingen/electrical-sustainable-energy/photovoltaic-materials-and-devices/dutch-pv-portal/meteorological-data) | Data Platform |\n",
    "|4. |Energy usage & carbon footprint of canal boats| -6 k/h max; | [Study](https://www.waternet.nl/siteassets/innovatie/maritime-envorimental-performance-indiocators-for-urban-waterways-in-amsterdam.pdf) | Paper |\n",
    "|5. |Cost of converting boats to electric| Building new electric canal boat: 1m euros; Converting existing canal boat to electrical: 50,000 euros; Converting recreational boats to electrical: 4,000 – 40,000 euros depending on size; nstallation chargers: 100 boat charging stations installed by end 2021 + floating charging station by Skoon Energy to help with grid balancing | [Article](https://www.reuters.com/article/us-climate-change-netherlands-idUSKBN20Q1W7) | JSON"
   ]
  },
  {
   "cell_type": "markdown",
   "metadata": {},
   "source": [
    "## Energy requirements for support boats"
   ]
  },
  {
   "cell_type": "markdown",
   "metadata": {},
   "source": [
    "Drawing on other event data, here we list **guidelines and recommendations** taken by other organizers in Open Swimming competitions worldwide.\n",
    "\n",
    "| # | Parameter | Summary | Source | Format|\n",
    "|:--|:----------|:------------|:-------|:------|\n",
    "|1. | Open Water Swimming Manual 2022 | “There must be sufficient safety craft or escort craft located on the course to immediately recognize when a swimmer is in distress and to initiate an immediate rescue response after observation or notification that a swimmer's rescue is required. | [Manual](https://resources.fina.org/fina/document/2022/04/27/1b20b7df-dd6c-488b-a147-51eae83a1590/FINA-OW-MANUAL-2022.pdf) | Manual |\n",
    "|2. | Open Water Swimming Manual 2022 | there should also be stationary safety craft located every 400 meters along the course, with a CPR- and life support-trained responder on board |  [Manual](https://resources.fina.org/fina/document/2022/04/27/1b20b7df-dd6c-488b-a147-51eae83a1590/FINA-OW-MANUAL-2022.pdf) | Manual |\n",
    "|3. | British Triathlon Open Water Swiming Safety Guidelines | “Safety cover, safety craft and / or canoes must be provided on the water. Personnel assigned to water safety must be in the ratio of 1 to, at most, every 20 competitors. Emergency exit points should be available for swimmers to leave the water and separate exit points should be available for safety craft.” | [Guidelines](https://www.triathlonscotland.org/files/British-Triathlon-Open-Water-Swimming-Safety-Guidelines-08.pdf) | Guidelines |\n"
   ]
  },
  {
   "cell_type": "markdown",
   "metadata": {},
   "source": [
    "The safety of all swimmers must be ensured during the whole duration of the race. During the event safety measures consist of:\n",
    "\n",
    "-\tLifeguards in canoes;\n",
    "\n",
    "    As advised by the Open Water Swimming Safety Guide for Multi-Sport Events from the British Triathlon organisation boats should be in the water to be able to rescue swimmers in distress. \n",
    "A ratio of a minimum of one boat per twenty swimmers is advised in waters where shorelines are easily reachable. \n",
    "A swimmer should also always be within 50 meters range of a lifeguard. [@british_triathlon_open_nodate] \n",
    "Since most of the chosen route goes through canals it is deemed unsafe to have boats sailing so close alongside the swimmers. \n",
    "For that reason, lifeguards will be present every 50 meters in canoes instead of on boats.\n",
    " \n",
    "    This also contributes to the sustainability of the event. As mentioned previously, diesel engine boats are highly polluting and the resultant water toxicity can remain in the water for up to 14 days after the use of boats [@JUTTNER19951976], so no fossil fuel boats should be used as support boats.\n",
    "-   Safety platforms in the water;\n",
    "\n",
    "    To make sure distressed swimmers can easily leave the water platforms are placed every 100m alongside the swimming route where quay walls make exiting the water difficult."
   ]
  },
  {
   "cell_type": "code",
   "execution_count": 5,
   "metadata": {},
   "outputs": [
    {
     "name": "stdout",
     "output_type": "stream",
     "text": [
      "No. of lifeguard canoes required = max(6.0, 100.0) = 100.0\n"
     ]
    }
   ],
   "source": [
    "MAX_DISTANCE_BETWEEN_LIFEGUARDS = 50\n",
    "NUM_SWIMMERS_PER_SUPPORT_BOAT = 20\n",
    "# Retrieve variables stored in other notebooks\n",
    "%store -r NUM_SWIMMERS_PER_WAVE\n",
    "%store -r LENGTH_OF_ROUTE\n",
    "\n",
    "num_boats_required = NUM_SWIMMERS_PER_WAVE / NUM_SWIMMERS_PER_SUPPORT_BOAT\n",
    "num_lifeguards_required = LENGTH_OF_ROUTE / MAX_DISTANCE_BETWEEN_LIFEGUARDS\n",
    "num_lifeguard_canoes_required = max(num_boats_required, num_lifeguards_required)\n",
    "\n",
    "print(\"No. of lifeguard canoes required = max({}, {}) = {}\".format(num_boats_required, num_lifeguards_required, num_lifeguard_canoes_required))"
   ]
  },
  {
   "cell_type": "markdown",
   "metadata": {},
   "source": [
    "100 canoes are used for the safety of swimmers, by using canoes instead of electric boats a lot of greenhouse gas emission is prevented. If we were to use electric boats electricity would have been used. Exactly how much energy we are saving by using canoes is calculated below."
   ]
  },
  {
   "cell_type": "code",
   "execution_count": null,
   "metadata": {},
   "outputs": [
    {
     "name": "stdout",
     "output_type": "stream",
     "text": [
      "Used power by boats: 14000 kWh\n"
     ]
    }
   ],
   "source": [
    "num_canoes = 100\n",
    "power_boat_kwh = 20\n",
    "time_race = 7\n",
    "\n",
    "power_use = num_canoes*power_boat_kwh*time_race\n",
    "print('Used power by boats:',power_use, 'kWh')"
   ]
  },
  {
   "cell_type": "markdown",
   "metadata": {},
   "source": [
    "Assuming that solar panels would be rented and installed for a week to power the boats the amount of solar panels needed is calculated below. Numbers about efficiency of solar panels are found at [@Voltasolar_2023].\n"
   ]
  },
  {
   "cell_type": "code",
   "execution_count": null,
   "metadata": {},
   "outputs": [
    {
     "name": "stdout",
     "output_type": "stream",
     "text": [
      "Number of solar panels needed: 2347\n"
     ]
    }
   ],
   "source": [
    "wp_sp = 365\n",
    "kWh_year = wp_sp *0.85\n",
    "kWh_week = kWh_year/52\n",
    "sp_needed = power_use/kWh_week\n",
    "print('Number of solar panels needed:', int(sp_needed)+1)"
   ]
  },
  {
   "cell_type": "markdown",
   "metadata": {},
   "source": [
    "Conclusions"
   ]
  },
  {
   "cell_type": "markdown",
   "metadata": {},
   "source": [
    "Knowing that canals are too narrow for boats to navigate safely with swimmers around, lifeguards alongside the canals, along with platforms every 100m where quay walls are steep would suffice. "
   ]
  },
  {
   "cell_type": "markdown",
   "metadata": {},
   "source": []
  },
  {
   "cell_type": "markdown",
   "metadata": {},
   "source": []
  },
  {
   "cell_type": "markdown",
   "metadata": {},
   "source": []
  }
 ],
 "metadata": {
  "kernelspec": {
   "display_name": "Python 3",
   "language": "python",
   "name": "python3"
  },
  "language_info": {
   "codemirror_mode": {
    "name": "ipython",
    "version": 3
   },
   "file_extension": ".py",
   "mimetype": "text/x-python",
   "name": "python",
   "nbconvert_exporter": "python",
   "pygments_lexer": "ipython3",
   "version": "3.11.5"
  }
 },
 "nbformat": 4,
 "nbformat_minor": 2
}
