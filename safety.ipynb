{
 "cells": [
  {
   "cell_type": "raw",
   "metadata": {},
   "source": [
    "---\n",
    "title: \"Safety\"\n",
    "format: html\n",
    "bibliography: references.bib\n",
    "---"
   ]
  },
  {
   "cell_type": "markdown",
   "metadata": {
    "vscode": {
     "languageId": "python"
    }
   },
   "source": [
    "> In order to host a swimming event in the city centre of Amsterdam certain ‘variables’ or risks need to be assessed. Our field of attention is subdivided in the following categories: safety, continuity of boat traffic, sustainability and economic feasibility. <br>\n",
    "\n",
    "First of these categories is safety, the safety of all swimmers must be ensured during the whole duration of the race. During the event safety measures consist of:\n",
    "-\tLifeguards in canoes; <br>\n",
    "As advised by the Open Water Swimming Safety Guide for Multi-Sport Events from the British Triathlon organisation boats should be in the water to be able to rescue swimmers in distress. A ratio of a minimum of one boat per twenty swimmers is advised in waters where shorelines are easily reachable. A swimmer should also always be within 50 meters range of a lifeguard. (British Triathlon, 2023) Since most of the chosen route goes through canals it is deemed unsafe to have boats sailing so close alongside the swimmers. For that reason lifeguards will be present every 50 meters in canoes instead of on boats. This also contributes to the sustainability of the event.\n",
    "-\tSafety platforms in the water; <br>\n",
    "To make sure distressed swimmers can easily leave the water platforms are placed every 100m alongside the swimming route where quay walls make exiting the water difficult. <br><br>\n",
    "\n"
   ]
  },
  {
   "cell_type": "markdown",
   "metadata": {},
   "source": []
  }
 ],
 "metadata": {
  "kernelspec": {
   "display_name": "Python 3",
   "language": "python",
   "name": "python3"
  },
  "language_info": {
   "name": "python",
   "version": "3.11.5"
  }
 },
 "nbformat": 4,
 "nbformat_minor": 2
}
